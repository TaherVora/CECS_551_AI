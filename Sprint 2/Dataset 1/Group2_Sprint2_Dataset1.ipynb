{
  "nbformat": 4,
  "nbformat_minor": 0,
  "metadata": {
    "colab": {
      "provenance": [],
      "collapsed_sections": [
        "N3pvxTOe0usT",
        "d8hrQ16r19Ie",
        "HahduwiSKshD",
        "gvCFY5f5bejX",
        "dQbOIEDoa-OO"
      ]
    },
    "kernelspec": {
      "name": "python3",
      "display_name": "Python 3"
    },
    "language_info": {
      "name": "python"
    }
  },
  "cells": [
    {
      "cell_type": "markdown",
      "source": [
        "# Dataset1: Q1) Linear regression, Ridge Regression, XGBoost, Random Forest Regressor, Arima with performance matrix(Mean squared error, Mean absolute error and R2 value)"
      ],
      "metadata": {
        "id": "vOgIOb7zfUEZ"
      }
    },
    {
      "cell_type": "code",
      "execution_count": null,
      "metadata": {
        "colab": {
          "base_uri": "https://localhost:8080/"
        },
        "id": "ayy4UqXyXgRl",
        "outputId": "d0e8958d-81b9-4767-b040-277c81df550d"
      },
      "outputs": [
        {
          "output_type": "stream",
          "name": "stdout",
          "text": [
            "Drive already mounted at /content/drive; to attempt to forcibly remount, call drive.mount(\"/content/drive\", force_remount=True).\n"
          ]
        }
      ],
      "source": [
        "from google.colab import drive\n",
        "drive.mount('/content/drive')"
      ]
    },
    {
      "cell_type": "code",
      "source": [
        "import pandas as pd\n",
        "import numpy as np\n",
        "import matplotlib.pyplot as plt\n",
        "from matplotlib import pyplot\n",
        "%matplotlib inline\n",
        "import seaborn as sns\n",
        "\n",
        "# Scikit-Learn \n",
        "from sklearn import preprocessing\n",
        "from sklearn.linear_model import LinearRegression\n",
        "from sklearn.model_selection import train_test_split\n",
        "from sklearn.metrics import mean_squared_error, mean_absolute_error, r2_score\n",
        "from sklearn.compose import ColumnTransformer\n",
        "from sklearn.preprocessing import OneHotEncoder\n",
        "from sklearn import metrics\n",
        "from sklearn.linear_model import Ridge \n",
        "from sklearn.ensemble import RandomForestRegressor\n",
        "from sklearn.model_selection import cross_val_score\n",
        "import xgboost as xgb\n",
        "from xgboost import XGBRegressor\n",
        "from pandas.plotting import autocorrelation_plot\n",
        "\n",
        "\n",
        "# For metrics performance\n",
        "from statsmodels.graphics.tsaplots import plot_pacf\n",
        "from statsmodels.tsa.stattools import adfuller\n",
        "import statsmodels.tsa.api as ap\n",
        "import statsmodels.api as am"
      ],
      "metadata": {
        "id": "1v0SNYL3XoHf"
      },
      "execution_count": null,
      "outputs": []
    },
    {
      "cell_type": "markdown",
      "source": [
        "This is the dataset created by merging all the stores. We created a new dataset so that we can use it throughout."
      ],
      "metadata": {
        "id": "89rOD1NeX3-h"
      }
    },
    {
      "cell_type": "code",
      "source": [
        "df=pd.read_excel('/content/drive/MyDrive/CECS_551/output.xlsx')"
      ],
      "metadata": {
        "id": "FwXY1IIgX0OZ"
      },
      "execution_count": null,
      "outputs": []
    },
    {
      "cell_type": "code",
      "source": [
        "df['Date'] = pd.to_datetime(df['Date'])\n",
        "df['Day'] = df['Date'].dt.weekday\n",
        "df['Month'] = df['Date'].dt.month\n",
        "df['Year']  = df['Date'].dt.year\n",
        "df.drop('Date',axis=1,inplace=True)\n",
        "df.fillna(0,inplace=True)\n",
        "df"
      ],
      "metadata": {
        "colab": {
          "base_uri": "https://localhost:8080/",
          "height": 505
        },
        "id": "IvQQxaI9X3E4",
        "outputId": "aead00a3-8e9f-47ee-97fe-d96cdc624b0e"
      },
      "execution_count": null,
      "outputs": [
        {
          "output_type": "execute_result",
          "data": {
            "text/plain": [
              "        Unnamed: 0  Store  Dept  Weekly_Sales  IsHoliday Type    Size  \\\n",
              "0                0      1     1      24924.50      False    A  151315   \n",
              "1                1      1     1      46039.49       True    A  151315   \n",
              "2                2      1     1      41595.55      False    A  151315   \n",
              "3                3      1     1      19403.54      False    A  151315   \n",
              "4                4      1     1      21827.90      False    A  151315   \n",
              "...            ...    ...   ...           ...        ...  ...     ...   \n",
              "421565      421565     45    98        508.37      False    B  118221   \n",
              "421566      421566     45    98        628.10      False    B  118221   \n",
              "421567      421567     45    98       1061.02      False    B  118221   \n",
              "421568      421568     45    98        760.01      False    B  118221   \n",
              "421569      421569     45    98       1076.80      False    B  118221   \n",
              "\n",
              "        Temperature  gas_price  discount_promotional  discount_clearance  \\\n",
              "0             59.33      3.360               9667.50              268.29   \n",
              "1             51.65      3.409               8687.47             1594.87   \n",
              "2             52.39      3.510               2706.87             3128.74   \n",
              "3             60.12      3.555               6129.28             1802.84   \n",
              "4             61.65      3.630               3552.58              601.32   \n",
              "...             ...        ...                   ...                 ...   \n",
              "421565         0.00      0.000                  0.00                0.00   \n",
              "421566         0.00      0.000                  0.00                0.00   \n",
              "421567         0.00      0.000                  0.00                0.00   \n",
              "421568         0.00      0.000                  0.00                0.00   \n",
              "421569         0.00      0.000                  0.00                0.00   \n",
              "\n",
              "        discount_damaged_good  discount_competitive         CPI  Unemployment  \\\n",
              "0                        0.60               8368.15  223.659114         6.833   \n",
              "1                        2.20               2144.87  223.753643         6.833   \n",
              "2                        1.88               2396.68  223.917015         6.833   \n",
              "3                        0.00                301.48  224.132020         6.833   \n",
              "4                        0.00               2666.22  224.347025         6.833   \n",
              "...                       ...                   ...         ...           ...   \n",
              "421565                   0.00                  0.00    0.000000         0.000   \n",
              "421566                   0.00                  0.00    0.000000         0.000   \n",
              "421567                   0.00                  0.00    0.000000         0.000   \n",
              "421568                   0.00                  0.00    0.000000         0.000   \n",
              "421569                   0.00                  0.00    0.000000         0.000   \n",
              "\n",
              "        Day  Month  Year  \n",
              "0         4      2  2010  \n",
              "1         4      2  2010  \n",
              "2         4      2  2010  \n",
              "3         4      2  2010  \n",
              "4         4      3  2010  \n",
              "...     ...    ...   ...  \n",
              "421565    4      9  2012  \n",
              "421566    4     10  2012  \n",
              "421567    4     10  2012  \n",
              "421568    4     10  2012  \n",
              "421569    4     10  2012  \n",
              "\n",
              "[421570 rows x 18 columns]"
            ],
            "text/html": [
              "\n",
              "  <div id=\"df-06281a4d-fb4c-4e37-aafb-a7c940970d13\">\n",
              "    <div class=\"colab-df-container\">\n",
              "      <div>\n",
              "<style scoped>\n",
              "    .dataframe tbody tr th:only-of-type {\n",
              "        vertical-align: middle;\n",
              "    }\n",
              "\n",
              "    .dataframe tbody tr th {\n",
              "        vertical-align: top;\n",
              "    }\n",
              "\n",
              "    .dataframe thead th {\n",
              "        text-align: right;\n",
              "    }\n",
              "</style>\n",
              "<table border=\"1\" class=\"dataframe\">\n",
              "  <thead>\n",
              "    <tr style=\"text-align: right;\">\n",
              "      <th></th>\n",
              "      <th>Unnamed: 0</th>\n",
              "      <th>Store</th>\n",
              "      <th>Dept</th>\n",
              "      <th>Weekly_Sales</th>\n",
              "      <th>IsHoliday</th>\n",
              "      <th>Type</th>\n",
              "      <th>Size</th>\n",
              "      <th>Temperature</th>\n",
              "      <th>gas_price</th>\n",
              "      <th>discount_promotional</th>\n",
              "      <th>discount_clearance</th>\n",
              "      <th>discount_damaged_good</th>\n",
              "      <th>discount_competitive</th>\n",
              "      <th>CPI</th>\n",
              "      <th>Unemployment</th>\n",
              "      <th>Day</th>\n",
              "      <th>Month</th>\n",
              "      <th>Year</th>\n",
              "    </tr>\n",
              "  </thead>\n",
              "  <tbody>\n",
              "    <tr>\n",
              "      <th>0</th>\n",
              "      <td>0</td>\n",
              "      <td>1</td>\n",
              "      <td>1</td>\n",
              "      <td>24924.50</td>\n",
              "      <td>False</td>\n",
              "      <td>A</td>\n",
              "      <td>151315</td>\n",
              "      <td>59.33</td>\n",
              "      <td>3.360</td>\n",
              "      <td>9667.50</td>\n",
              "      <td>268.29</td>\n",
              "      <td>0.60</td>\n",
              "      <td>8368.15</td>\n",
              "      <td>223.659114</td>\n",
              "      <td>6.833</td>\n",
              "      <td>4</td>\n",
              "      <td>2</td>\n",
              "      <td>2010</td>\n",
              "    </tr>\n",
              "    <tr>\n",
              "      <th>1</th>\n",
              "      <td>1</td>\n",
              "      <td>1</td>\n",
              "      <td>1</td>\n",
              "      <td>46039.49</td>\n",
              "      <td>True</td>\n",
              "      <td>A</td>\n",
              "      <td>151315</td>\n",
              "      <td>51.65</td>\n",
              "      <td>3.409</td>\n",
              "      <td>8687.47</td>\n",
              "      <td>1594.87</td>\n",
              "      <td>2.20</td>\n",
              "      <td>2144.87</td>\n",
              "      <td>223.753643</td>\n",
              "      <td>6.833</td>\n",
              "      <td>4</td>\n",
              "      <td>2</td>\n",
              "      <td>2010</td>\n",
              "    </tr>\n",
              "    <tr>\n",
              "      <th>2</th>\n",
              "      <td>2</td>\n",
              "      <td>1</td>\n",
              "      <td>1</td>\n",
              "      <td>41595.55</td>\n",
              "      <td>False</td>\n",
              "      <td>A</td>\n",
              "      <td>151315</td>\n",
              "      <td>52.39</td>\n",
              "      <td>3.510</td>\n",
              "      <td>2706.87</td>\n",
              "      <td>3128.74</td>\n",
              "      <td>1.88</td>\n",
              "      <td>2396.68</td>\n",
              "      <td>223.917015</td>\n",
              "      <td>6.833</td>\n",
              "      <td>4</td>\n",
              "      <td>2</td>\n",
              "      <td>2010</td>\n",
              "    </tr>\n",
              "    <tr>\n",
              "      <th>3</th>\n",
              "      <td>3</td>\n",
              "      <td>1</td>\n",
              "      <td>1</td>\n",
              "      <td>19403.54</td>\n",
              "      <td>False</td>\n",
              "      <td>A</td>\n",
              "      <td>151315</td>\n",
              "      <td>60.12</td>\n",
              "      <td>3.555</td>\n",
              "      <td>6129.28</td>\n",
              "      <td>1802.84</td>\n",
              "      <td>0.00</td>\n",
              "      <td>301.48</td>\n",
              "      <td>224.132020</td>\n",
              "      <td>6.833</td>\n",
              "      <td>4</td>\n",
              "      <td>2</td>\n",
              "      <td>2010</td>\n",
              "    </tr>\n",
              "    <tr>\n",
              "      <th>4</th>\n",
              "      <td>4</td>\n",
              "      <td>1</td>\n",
              "      <td>1</td>\n",
              "      <td>21827.90</td>\n",
              "      <td>False</td>\n",
              "      <td>A</td>\n",
              "      <td>151315</td>\n",
              "      <td>61.65</td>\n",
              "      <td>3.630</td>\n",
              "      <td>3552.58</td>\n",
              "      <td>601.32</td>\n",
              "      <td>0.00</td>\n",
              "      <td>2666.22</td>\n",
              "      <td>224.347025</td>\n",
              "      <td>6.833</td>\n",
              "      <td>4</td>\n",
              "      <td>3</td>\n",
              "      <td>2010</td>\n",
              "    </tr>\n",
              "    <tr>\n",
              "      <th>...</th>\n",
              "      <td>...</td>\n",
              "      <td>...</td>\n",
              "      <td>...</td>\n",
              "      <td>...</td>\n",
              "      <td>...</td>\n",
              "      <td>...</td>\n",
              "      <td>...</td>\n",
              "      <td>...</td>\n",
              "      <td>...</td>\n",
              "      <td>...</td>\n",
              "      <td>...</td>\n",
              "      <td>...</td>\n",
              "      <td>...</td>\n",
              "      <td>...</td>\n",
              "      <td>...</td>\n",
              "      <td>...</td>\n",
              "      <td>...</td>\n",
              "      <td>...</td>\n",
              "    </tr>\n",
              "    <tr>\n",
              "      <th>421565</th>\n",
              "      <td>421565</td>\n",
              "      <td>45</td>\n",
              "      <td>98</td>\n",
              "      <td>508.37</td>\n",
              "      <td>False</td>\n",
              "      <td>B</td>\n",
              "      <td>118221</td>\n",
              "      <td>0.00</td>\n",
              "      <td>0.000</td>\n",
              "      <td>0.00</td>\n",
              "      <td>0.00</td>\n",
              "      <td>0.00</td>\n",
              "      <td>0.00</td>\n",
              "      <td>0.000000</td>\n",
              "      <td>0.000</td>\n",
              "      <td>4</td>\n",
              "      <td>9</td>\n",
              "      <td>2012</td>\n",
              "    </tr>\n",
              "    <tr>\n",
              "      <th>421566</th>\n",
              "      <td>421566</td>\n",
              "      <td>45</td>\n",
              "      <td>98</td>\n",
              "      <td>628.10</td>\n",
              "      <td>False</td>\n",
              "      <td>B</td>\n",
              "      <td>118221</td>\n",
              "      <td>0.00</td>\n",
              "      <td>0.000</td>\n",
              "      <td>0.00</td>\n",
              "      <td>0.00</td>\n",
              "      <td>0.00</td>\n",
              "      <td>0.00</td>\n",
              "      <td>0.000000</td>\n",
              "      <td>0.000</td>\n",
              "      <td>4</td>\n",
              "      <td>10</td>\n",
              "      <td>2012</td>\n",
              "    </tr>\n",
              "    <tr>\n",
              "      <th>421567</th>\n",
              "      <td>421567</td>\n",
              "      <td>45</td>\n",
              "      <td>98</td>\n",
              "      <td>1061.02</td>\n",
              "      <td>False</td>\n",
              "      <td>B</td>\n",
              "      <td>118221</td>\n",
              "      <td>0.00</td>\n",
              "      <td>0.000</td>\n",
              "      <td>0.00</td>\n",
              "      <td>0.00</td>\n",
              "      <td>0.00</td>\n",
              "      <td>0.00</td>\n",
              "      <td>0.000000</td>\n",
              "      <td>0.000</td>\n",
              "      <td>4</td>\n",
              "      <td>10</td>\n",
              "      <td>2012</td>\n",
              "    </tr>\n",
              "    <tr>\n",
              "      <th>421568</th>\n",
              "      <td>421568</td>\n",
              "      <td>45</td>\n",
              "      <td>98</td>\n",
              "      <td>760.01</td>\n",
              "      <td>False</td>\n",
              "      <td>B</td>\n",
              "      <td>118221</td>\n",
              "      <td>0.00</td>\n",
              "      <td>0.000</td>\n",
              "      <td>0.00</td>\n",
              "      <td>0.00</td>\n",
              "      <td>0.00</td>\n",
              "      <td>0.00</td>\n",
              "      <td>0.000000</td>\n",
              "      <td>0.000</td>\n",
              "      <td>4</td>\n",
              "      <td>10</td>\n",
              "      <td>2012</td>\n",
              "    </tr>\n",
              "    <tr>\n",
              "      <th>421569</th>\n",
              "      <td>421569</td>\n",
              "      <td>45</td>\n",
              "      <td>98</td>\n",
              "      <td>1076.80</td>\n",
              "      <td>False</td>\n",
              "      <td>B</td>\n",
              "      <td>118221</td>\n",
              "      <td>0.00</td>\n",
              "      <td>0.000</td>\n",
              "      <td>0.00</td>\n",
              "      <td>0.00</td>\n",
              "      <td>0.00</td>\n",
              "      <td>0.00</td>\n",
              "      <td>0.000000</td>\n",
              "      <td>0.000</td>\n",
              "      <td>4</td>\n",
              "      <td>10</td>\n",
              "      <td>2012</td>\n",
              "    </tr>\n",
              "  </tbody>\n",
              "</table>\n",
              "<p>421570 rows × 18 columns</p>\n",
              "</div>\n",
              "      <button class=\"colab-df-convert\" onclick=\"convertToInteractive('df-06281a4d-fb4c-4e37-aafb-a7c940970d13')\"\n",
              "              title=\"Convert this dataframe to an interactive table.\"\n",
              "              style=\"display:none;\">\n",
              "        \n",
              "  <svg xmlns=\"http://www.w3.org/2000/svg\" height=\"24px\"viewBox=\"0 0 24 24\"\n",
              "       width=\"24px\">\n",
              "    <path d=\"M0 0h24v24H0V0z\" fill=\"none\"/>\n",
              "    <path d=\"M18.56 5.44l.94 2.06.94-2.06 2.06-.94-2.06-.94-.94-2.06-.94 2.06-2.06.94zm-11 1L8.5 8.5l.94-2.06 2.06-.94-2.06-.94L8.5 2.5l-.94 2.06-2.06.94zm10 10l.94 2.06.94-2.06 2.06-.94-2.06-.94-.94-2.06-.94 2.06-2.06.94z\"/><path d=\"M17.41 7.96l-1.37-1.37c-.4-.4-.92-.59-1.43-.59-.52 0-1.04.2-1.43.59L10.3 9.45l-7.72 7.72c-.78.78-.78 2.05 0 2.83L4 21.41c.39.39.9.59 1.41.59.51 0 1.02-.2 1.41-.59l7.78-7.78 2.81-2.81c.8-.78.8-2.07 0-2.86zM5.41 20L4 18.59l7.72-7.72 1.47 1.35L5.41 20z\"/>\n",
              "  </svg>\n",
              "      </button>\n",
              "      \n",
              "  <style>\n",
              "    .colab-df-container {\n",
              "      display:flex;\n",
              "      flex-wrap:wrap;\n",
              "      gap: 12px;\n",
              "    }\n",
              "\n",
              "    .colab-df-convert {\n",
              "      background-color: #E8F0FE;\n",
              "      border: none;\n",
              "      border-radius: 50%;\n",
              "      cursor: pointer;\n",
              "      display: none;\n",
              "      fill: #1967D2;\n",
              "      height: 32px;\n",
              "      padding: 0 0 0 0;\n",
              "      width: 32px;\n",
              "    }\n",
              "\n",
              "    .colab-df-convert:hover {\n",
              "      background-color: #E2EBFA;\n",
              "      box-shadow: 0px 1px 2px rgba(60, 64, 67, 0.3), 0px 1px 3px 1px rgba(60, 64, 67, 0.15);\n",
              "      fill: #174EA6;\n",
              "    }\n",
              "\n",
              "    [theme=dark] .colab-df-convert {\n",
              "      background-color: #3B4455;\n",
              "      fill: #D2E3FC;\n",
              "    }\n",
              "\n",
              "    [theme=dark] .colab-df-convert:hover {\n",
              "      background-color: #434B5C;\n",
              "      box-shadow: 0px 1px 3px 1px rgba(0, 0, 0, 0.15);\n",
              "      filter: drop-shadow(0px 1px 2px rgba(0, 0, 0, 0.3));\n",
              "      fill: #FFFFFF;\n",
              "    }\n",
              "  </style>\n",
              "\n",
              "      <script>\n",
              "        const buttonEl =\n",
              "          document.querySelector('#df-06281a4d-fb4c-4e37-aafb-a7c940970d13 button.colab-df-convert');\n",
              "        buttonEl.style.display =\n",
              "          google.colab.kernel.accessAllowed ? 'block' : 'none';\n",
              "\n",
              "        async function convertToInteractive(key) {\n",
              "          const element = document.querySelector('#df-06281a4d-fb4c-4e37-aafb-a7c940970d13');\n",
              "          const dataTable =\n",
              "            await google.colab.kernel.invokeFunction('convertToInteractive',\n",
              "                                                     [key], {});\n",
              "          if (!dataTable) return;\n",
              "\n",
              "          const docLinkHtml = 'Like what you see? Visit the ' +\n",
              "            '<a target=\"_blank\" href=https://colab.research.google.com/notebooks/data_table.ipynb>data table notebook</a>'\n",
              "            + ' to learn more about interactive tables.';\n",
              "          element.innerHTML = '';\n",
              "          dataTable['output_type'] = 'display_data';\n",
              "          await google.colab.output.renderOutput(dataTable, element);\n",
              "          const docLink = document.createElement('div');\n",
              "          docLink.innerHTML = docLinkHtml;\n",
              "          element.appendChild(docLink);\n",
              "        }\n",
              "      </script>\n",
              "    </div>\n",
              "  </div>\n",
              "  "
            ]
          },
          "metadata": {},
          "execution_count": 34
        }
      ]
    },
    {
      "cell_type": "markdown",
      "source": [
        "## Pre processing where we converted all big values to small values"
      ],
      "metadata": {
        "id": "X4quZmuJn6hu"
      }
    },
    {
      "cell_type": "code",
      "source": [
        "cols =['Temperature','gas_price','CPI','Unemployment','Size','Weekly_Sales','IsHoliday','discount_promotional','discount_clearance','discount_damaged_good','discount_competitive']\n",
        "df_numeric = df[cols]\n",
        "from sklearn.preprocessing import PowerTransformer\n",
        "\n",
        "pt = PowerTransformer(standardize=True)\n",
        "df_transformed = pd.DataFrame(pt.fit_transform(df_numeric),columns=cols)\n",
        "\n",
        "pd.DataFrame({'cols':cols, 'box-cox lamda': pt.lambdas_})\n",
        "\n",
        "for col in cols:\n",
        "    df[col] = df_transformed[col]\n",
        "    \n",
        "    \n",
        "df.head()"
      ],
      "metadata": {
        "colab": {
          "base_uri": "https://localhost:8080/",
          "height": 287
        },
        "id": "WcpFxz9zeO-Y",
        "outputId": "98ee2b14-a996-416e-ffd2-a2d5add35477"
      },
      "execution_count": null,
      "outputs": [
        {
          "output_type": "execute_result",
          "data": {
            "text/plain": [
              "   Unnamed: 0  Store  Dept  Weekly_Sales  IsHoliday Type     Size  \\\n",
              "0           0      1     1      0.633019  -0.275106    A  0.22807   \n",
              "1           1      1     1      1.440158   3.634961    A  0.22807   \n",
              "2           2      1     1      1.283860  -0.275106    A  0.22807   \n",
              "3           3      1     1      0.384527  -0.275106    A  0.22807   \n",
              "4           4      1     1      0.496418  -0.275106    A  0.22807   \n",
              "\n",
              "   Temperature  gas_price  discount_promotional  discount_clearance  \\\n",
              "0     0.434446   0.383330              1.566556            0.233706   \n",
              "1     0.203730   0.440705              1.561992            0.856296   \n",
              "2     0.226273   0.561469              1.500941            1.271129   \n",
              "3     0.457793   0.616363              1.545995            0.922074   \n",
              "4     0.502821   0.709349              1.517219            0.451048   \n",
              "\n",
              "   discount_damaged_good  discount_competitive       CPI  Unemployment  Day  \\\n",
              "0              -0.189748              1.670924  1.016905      0.081022    4   \n",
              "1              -0.038212              1.623742  1.017845      0.081022    4   \n",
              "2              -0.062360              1.628612  1.019471      0.081022    4   \n",
              "3              -0.283214              1.490745  1.021609      0.081022    4   \n",
              "4              -0.283214              1.633091  1.023747      0.081022    4   \n",
              "\n",
              "   Month  Year  \n",
              "0      2  2010  \n",
              "1      2  2010  \n",
              "2      2  2010  \n",
              "3      2  2010  \n",
              "4      3  2010  "
            ],
            "text/html": [
              "\n",
              "  <div id=\"df-c1ea6b90-0425-4fb7-afdc-c529925d4bd7\">\n",
              "    <div class=\"colab-df-container\">\n",
              "      <div>\n",
              "<style scoped>\n",
              "    .dataframe tbody tr th:only-of-type {\n",
              "        vertical-align: middle;\n",
              "    }\n",
              "\n",
              "    .dataframe tbody tr th {\n",
              "        vertical-align: top;\n",
              "    }\n",
              "\n",
              "    .dataframe thead th {\n",
              "        text-align: right;\n",
              "    }\n",
              "</style>\n",
              "<table border=\"1\" class=\"dataframe\">\n",
              "  <thead>\n",
              "    <tr style=\"text-align: right;\">\n",
              "      <th></th>\n",
              "      <th>Unnamed: 0</th>\n",
              "      <th>Store</th>\n",
              "      <th>Dept</th>\n",
              "      <th>Weekly_Sales</th>\n",
              "      <th>IsHoliday</th>\n",
              "      <th>Type</th>\n",
              "      <th>Size</th>\n",
              "      <th>Temperature</th>\n",
              "      <th>gas_price</th>\n",
              "      <th>discount_promotional</th>\n",
              "      <th>discount_clearance</th>\n",
              "      <th>discount_damaged_good</th>\n",
              "      <th>discount_competitive</th>\n",
              "      <th>CPI</th>\n",
              "      <th>Unemployment</th>\n",
              "      <th>Day</th>\n",
              "      <th>Month</th>\n",
              "      <th>Year</th>\n",
              "    </tr>\n",
              "  </thead>\n",
              "  <tbody>\n",
              "    <tr>\n",
              "      <th>0</th>\n",
              "      <td>0</td>\n",
              "      <td>1</td>\n",
              "      <td>1</td>\n",
              "      <td>0.633019</td>\n",
              "      <td>-0.275106</td>\n",
              "      <td>A</td>\n",
              "      <td>0.22807</td>\n",
              "      <td>0.434446</td>\n",
              "      <td>0.383330</td>\n",
              "      <td>1.566556</td>\n",
              "      <td>0.233706</td>\n",
              "      <td>-0.189748</td>\n",
              "      <td>1.670924</td>\n",
              "      <td>1.016905</td>\n",
              "      <td>0.081022</td>\n",
              "      <td>4</td>\n",
              "      <td>2</td>\n",
              "      <td>2010</td>\n",
              "    </tr>\n",
              "    <tr>\n",
              "      <th>1</th>\n",
              "      <td>1</td>\n",
              "      <td>1</td>\n",
              "      <td>1</td>\n",
              "      <td>1.440158</td>\n",
              "      <td>3.634961</td>\n",
              "      <td>A</td>\n",
              "      <td>0.22807</td>\n",
              "      <td>0.203730</td>\n",
              "      <td>0.440705</td>\n",
              "      <td>1.561992</td>\n",
              "      <td>0.856296</td>\n",
              "      <td>-0.038212</td>\n",
              "      <td>1.623742</td>\n",
              "      <td>1.017845</td>\n",
              "      <td>0.081022</td>\n",
              "      <td>4</td>\n",
              "      <td>2</td>\n",
              "      <td>2010</td>\n",
              "    </tr>\n",
              "    <tr>\n",
              "      <th>2</th>\n",
              "      <td>2</td>\n",
              "      <td>1</td>\n",
              "      <td>1</td>\n",
              "      <td>1.283860</td>\n",
              "      <td>-0.275106</td>\n",
              "      <td>A</td>\n",
              "      <td>0.22807</td>\n",
              "      <td>0.226273</td>\n",
              "      <td>0.561469</td>\n",
              "      <td>1.500941</td>\n",
              "      <td>1.271129</td>\n",
              "      <td>-0.062360</td>\n",
              "      <td>1.628612</td>\n",
              "      <td>1.019471</td>\n",
              "      <td>0.081022</td>\n",
              "      <td>4</td>\n",
              "      <td>2</td>\n",
              "      <td>2010</td>\n",
              "    </tr>\n",
              "    <tr>\n",
              "      <th>3</th>\n",
              "      <td>3</td>\n",
              "      <td>1</td>\n",
              "      <td>1</td>\n",
              "      <td>0.384527</td>\n",
              "      <td>-0.275106</td>\n",
              "      <td>A</td>\n",
              "      <td>0.22807</td>\n",
              "      <td>0.457793</td>\n",
              "      <td>0.616363</td>\n",
              "      <td>1.545995</td>\n",
              "      <td>0.922074</td>\n",
              "      <td>-0.283214</td>\n",
              "      <td>1.490745</td>\n",
              "      <td>1.021609</td>\n",
              "      <td>0.081022</td>\n",
              "      <td>4</td>\n",
              "      <td>2</td>\n",
              "      <td>2010</td>\n",
              "    </tr>\n",
              "    <tr>\n",
              "      <th>4</th>\n",
              "      <td>4</td>\n",
              "      <td>1</td>\n",
              "      <td>1</td>\n",
              "      <td>0.496418</td>\n",
              "      <td>-0.275106</td>\n",
              "      <td>A</td>\n",
              "      <td>0.22807</td>\n",
              "      <td>0.502821</td>\n",
              "      <td>0.709349</td>\n",
              "      <td>1.517219</td>\n",
              "      <td>0.451048</td>\n",
              "      <td>-0.283214</td>\n",
              "      <td>1.633091</td>\n",
              "      <td>1.023747</td>\n",
              "      <td>0.081022</td>\n",
              "      <td>4</td>\n",
              "      <td>3</td>\n",
              "      <td>2010</td>\n",
              "    </tr>\n",
              "  </tbody>\n",
              "</table>\n",
              "</div>\n",
              "      <button class=\"colab-df-convert\" onclick=\"convertToInteractive('df-c1ea6b90-0425-4fb7-afdc-c529925d4bd7')\"\n",
              "              title=\"Convert this dataframe to an interactive table.\"\n",
              "              style=\"display:none;\">\n",
              "        \n",
              "  <svg xmlns=\"http://www.w3.org/2000/svg\" height=\"24px\"viewBox=\"0 0 24 24\"\n",
              "       width=\"24px\">\n",
              "    <path d=\"M0 0h24v24H0V0z\" fill=\"none\"/>\n",
              "    <path d=\"M18.56 5.44l.94 2.06.94-2.06 2.06-.94-2.06-.94-.94-2.06-.94 2.06-2.06.94zm-11 1L8.5 8.5l.94-2.06 2.06-.94-2.06-.94L8.5 2.5l-.94 2.06-2.06.94zm10 10l.94 2.06.94-2.06 2.06-.94-2.06-.94-.94-2.06-.94 2.06-2.06.94z\"/><path d=\"M17.41 7.96l-1.37-1.37c-.4-.4-.92-.59-1.43-.59-.52 0-1.04.2-1.43.59L10.3 9.45l-7.72 7.72c-.78.78-.78 2.05 0 2.83L4 21.41c.39.39.9.59 1.41.59.51 0 1.02-.2 1.41-.59l7.78-7.78 2.81-2.81c.8-.78.8-2.07 0-2.86zM5.41 20L4 18.59l7.72-7.72 1.47 1.35L5.41 20z\"/>\n",
              "  </svg>\n",
              "      </button>\n",
              "      \n",
              "  <style>\n",
              "    .colab-df-container {\n",
              "      display:flex;\n",
              "      flex-wrap:wrap;\n",
              "      gap: 12px;\n",
              "    }\n",
              "\n",
              "    .colab-df-convert {\n",
              "      background-color: #E8F0FE;\n",
              "      border: none;\n",
              "      border-radius: 50%;\n",
              "      cursor: pointer;\n",
              "      display: none;\n",
              "      fill: #1967D2;\n",
              "      height: 32px;\n",
              "      padding: 0 0 0 0;\n",
              "      width: 32px;\n",
              "    }\n",
              "\n",
              "    .colab-df-convert:hover {\n",
              "      background-color: #E2EBFA;\n",
              "      box-shadow: 0px 1px 2px rgba(60, 64, 67, 0.3), 0px 1px 3px 1px rgba(60, 64, 67, 0.15);\n",
              "      fill: #174EA6;\n",
              "    }\n",
              "\n",
              "    [theme=dark] .colab-df-convert {\n",
              "      background-color: #3B4455;\n",
              "      fill: #D2E3FC;\n",
              "    }\n",
              "\n",
              "    [theme=dark] .colab-df-convert:hover {\n",
              "      background-color: #434B5C;\n",
              "      box-shadow: 0px 1px 3px 1px rgba(0, 0, 0, 0.15);\n",
              "      filter: drop-shadow(0px 1px 2px rgba(0, 0, 0, 0.3));\n",
              "      fill: #FFFFFF;\n",
              "    }\n",
              "  </style>\n",
              "\n",
              "      <script>\n",
              "        const buttonEl =\n",
              "          document.querySelector('#df-c1ea6b90-0425-4fb7-afdc-c529925d4bd7 button.colab-df-convert');\n",
              "        buttonEl.style.display =\n",
              "          google.colab.kernel.accessAllowed ? 'block' : 'none';\n",
              "\n",
              "        async function convertToInteractive(key) {\n",
              "          const element = document.querySelector('#df-c1ea6b90-0425-4fb7-afdc-c529925d4bd7');\n",
              "          const dataTable =\n",
              "            await google.colab.kernel.invokeFunction('convertToInteractive',\n",
              "                                                     [key], {});\n",
              "          if (!dataTable) return;\n",
              "\n",
              "          const docLinkHtml = 'Like what you see? Visit the ' +\n",
              "            '<a target=\"_blank\" href=https://colab.research.google.com/notebooks/data_table.ipynb>data table notebook</a>'\n",
              "            + ' to learn more about interactive tables.';\n",
              "          element.innerHTML = '';\n",
              "          dataTable['output_type'] = 'display_data';\n",
              "          await google.colab.output.renderOutput(dataTable, element);\n",
              "          const docLink = document.createElement('div');\n",
              "          docLink.innerHTML = docLinkHtml;\n",
              "          element.appendChild(docLink);\n",
              "        }\n",
              "      </script>\n",
              "    </div>\n",
              "  </div>\n",
              "  "
            ]
          },
          "metadata": {},
          "execution_count": 35
        }
      ]
    },
    {
      "cell_type": "markdown",
      "source": [
        "## Remove Outliers"
      ],
      "metadata": {
        "id": "0jDJsq_aobfg"
      }
    },
    {
      "cell_type": "code",
      "source": [
        "Q1 = df['Unemployment'].quantile(0.25)\n",
        "Q3 = df['Unemployment'].quantile(0.75)\n",
        "IQR = Q3-Q1\n",
        "\n",
        "df = df[df['Unemployment'] >= Q1-1.5*(IQR)]\n",
        "df = df[df['Unemployment'] <= Q3+1.5*(IQR)]\n",
        "df.shape"
      ],
      "metadata": {
        "colab": {
          "base_uri": "https://localhost:8080/"
        },
        "id": "dby6hG7Nfm2T",
        "outputId": "c0bbbe14-6baf-4a3e-ceab-dc56054048fb"
      },
      "execution_count": null,
      "outputs": [
        {
          "output_type": "execute_result",
          "data": {
            "text/plain": [
              "(323714, 18)"
            ]
          },
          "metadata": {},
          "execution_count": 36
        }
      ]
    },
    {
      "cell_type": "code",
      "source": [
        "Q1 = df['Temperature'].quantile(0.25)\n",
        "Q3 = df['Temperature'].quantile(0.75)\n",
        "IQR = Q3-Q1\n",
        "\n",
        "df = df[df['Temperature'] >= Q1-1.5*(IQR)]\n",
        "\n",
        "df = df[df['Temperature'] <= Q3+1.5*(IQR)]\n",
        "df.shape"
      ],
      "metadata": {
        "colab": {
          "base_uri": "https://localhost:8080/"
        },
        "id": "6TjeNs1Goan-",
        "outputId": "54428613-faad-4bfd-8d03-3c97ccffee88"
      },
      "execution_count": null,
      "outputs": [
        {
          "output_type": "execute_result",
          "data": {
            "text/plain": [
              "(323027, 18)"
            ]
          },
          "metadata": {},
          "execution_count": 37
        }
      ]
    },
    {
      "cell_type": "markdown",
      "source": [
        "Convert string type to Int "
      ],
      "metadata": {
        "id": "UjtyKTkEHtJJ"
      }
    },
    {
      "cell_type": "code",
      "source": [
        "tp = {'A':1, 'B':2, 'C':0}\n",
        "df['Type'] = df['Type'].map(tp)\n",
        "yr = {2010:1, 2011:2, 2012:0}\n",
        "df['Year'] = df['Year'].map(yr)\n",
        "df.head()"
      ],
      "metadata": {
        "colab": {
          "base_uri": "https://localhost:8080/",
          "height": 287
        },
        "id": "yqkUzl24pelR",
        "outputId": "d829d3e2-7d28-4968-e12d-ee89f3cce106"
      },
      "execution_count": null,
      "outputs": [
        {
          "output_type": "execute_result",
          "data": {
            "text/plain": [
              "   Unnamed: 0  Store  Dept  Weekly_Sales  IsHoliday  Type     Size  \\\n",
              "0           0      1     1      0.633019  -0.275106     1  0.22807   \n",
              "1           1      1     1      1.440158   3.634961     1  0.22807   \n",
              "2           2      1     1      1.283860  -0.275106     1  0.22807   \n",
              "3           3      1     1      0.384527  -0.275106     1  0.22807   \n",
              "4           4      1     1      0.496418  -0.275106     1  0.22807   \n",
              "\n",
              "   Temperature  gas_price  discount_promotional  discount_clearance  \\\n",
              "0     0.434446   0.383330              1.566556            0.233706   \n",
              "1     0.203730   0.440705              1.561992            0.856296   \n",
              "2     0.226273   0.561469              1.500941            1.271129   \n",
              "3     0.457793   0.616363              1.545995            0.922074   \n",
              "4     0.502821   0.709349              1.517219            0.451048   \n",
              "\n",
              "   discount_damaged_good  discount_competitive       CPI  Unemployment  Day  \\\n",
              "0              -0.189748              1.670924  1.016905      0.081022    4   \n",
              "1              -0.038212              1.623742  1.017845      0.081022    4   \n",
              "2              -0.062360              1.628612  1.019471      0.081022    4   \n",
              "3              -0.283214              1.490745  1.021609      0.081022    4   \n",
              "4              -0.283214              1.633091  1.023747      0.081022    4   \n",
              "\n",
              "   Month  Year  \n",
              "0      2     1  \n",
              "1      2     1  \n",
              "2      2     1  \n",
              "3      2     1  \n",
              "4      3     1  "
            ],
            "text/html": [
              "\n",
              "  <div id=\"df-9d9b2a2d-089a-49b0-9ce5-39f3db95395a\">\n",
              "    <div class=\"colab-df-container\">\n",
              "      <div>\n",
              "<style scoped>\n",
              "    .dataframe tbody tr th:only-of-type {\n",
              "        vertical-align: middle;\n",
              "    }\n",
              "\n",
              "    .dataframe tbody tr th {\n",
              "        vertical-align: top;\n",
              "    }\n",
              "\n",
              "    .dataframe thead th {\n",
              "        text-align: right;\n",
              "    }\n",
              "</style>\n",
              "<table border=\"1\" class=\"dataframe\">\n",
              "  <thead>\n",
              "    <tr style=\"text-align: right;\">\n",
              "      <th></th>\n",
              "      <th>Unnamed: 0</th>\n",
              "      <th>Store</th>\n",
              "      <th>Dept</th>\n",
              "      <th>Weekly_Sales</th>\n",
              "      <th>IsHoliday</th>\n",
              "      <th>Type</th>\n",
              "      <th>Size</th>\n",
              "      <th>Temperature</th>\n",
              "      <th>gas_price</th>\n",
              "      <th>discount_promotional</th>\n",
              "      <th>discount_clearance</th>\n",
              "      <th>discount_damaged_good</th>\n",
              "      <th>discount_competitive</th>\n",
              "      <th>CPI</th>\n",
              "      <th>Unemployment</th>\n",
              "      <th>Day</th>\n",
              "      <th>Month</th>\n",
              "      <th>Year</th>\n",
              "    </tr>\n",
              "  </thead>\n",
              "  <tbody>\n",
              "    <tr>\n",
              "      <th>0</th>\n",
              "      <td>0</td>\n",
              "      <td>1</td>\n",
              "      <td>1</td>\n",
              "      <td>0.633019</td>\n",
              "      <td>-0.275106</td>\n",
              "      <td>1</td>\n",
              "      <td>0.22807</td>\n",
              "      <td>0.434446</td>\n",
              "      <td>0.383330</td>\n",
              "      <td>1.566556</td>\n",
              "      <td>0.233706</td>\n",
              "      <td>-0.189748</td>\n",
              "      <td>1.670924</td>\n",
              "      <td>1.016905</td>\n",
              "      <td>0.081022</td>\n",
              "      <td>4</td>\n",
              "      <td>2</td>\n",
              "      <td>1</td>\n",
              "    </tr>\n",
              "    <tr>\n",
              "      <th>1</th>\n",
              "      <td>1</td>\n",
              "      <td>1</td>\n",
              "      <td>1</td>\n",
              "      <td>1.440158</td>\n",
              "      <td>3.634961</td>\n",
              "      <td>1</td>\n",
              "      <td>0.22807</td>\n",
              "      <td>0.203730</td>\n",
              "      <td>0.440705</td>\n",
              "      <td>1.561992</td>\n",
              "      <td>0.856296</td>\n",
              "      <td>-0.038212</td>\n",
              "      <td>1.623742</td>\n",
              "      <td>1.017845</td>\n",
              "      <td>0.081022</td>\n",
              "      <td>4</td>\n",
              "      <td>2</td>\n",
              "      <td>1</td>\n",
              "    </tr>\n",
              "    <tr>\n",
              "      <th>2</th>\n",
              "      <td>2</td>\n",
              "      <td>1</td>\n",
              "      <td>1</td>\n",
              "      <td>1.283860</td>\n",
              "      <td>-0.275106</td>\n",
              "      <td>1</td>\n",
              "      <td>0.22807</td>\n",
              "      <td>0.226273</td>\n",
              "      <td>0.561469</td>\n",
              "      <td>1.500941</td>\n",
              "      <td>1.271129</td>\n",
              "      <td>-0.062360</td>\n",
              "      <td>1.628612</td>\n",
              "      <td>1.019471</td>\n",
              "      <td>0.081022</td>\n",
              "      <td>4</td>\n",
              "      <td>2</td>\n",
              "      <td>1</td>\n",
              "    </tr>\n",
              "    <tr>\n",
              "      <th>3</th>\n",
              "      <td>3</td>\n",
              "      <td>1</td>\n",
              "      <td>1</td>\n",
              "      <td>0.384527</td>\n",
              "      <td>-0.275106</td>\n",
              "      <td>1</td>\n",
              "      <td>0.22807</td>\n",
              "      <td>0.457793</td>\n",
              "      <td>0.616363</td>\n",
              "      <td>1.545995</td>\n",
              "      <td>0.922074</td>\n",
              "      <td>-0.283214</td>\n",
              "      <td>1.490745</td>\n",
              "      <td>1.021609</td>\n",
              "      <td>0.081022</td>\n",
              "      <td>4</td>\n",
              "      <td>2</td>\n",
              "      <td>1</td>\n",
              "    </tr>\n",
              "    <tr>\n",
              "      <th>4</th>\n",
              "      <td>4</td>\n",
              "      <td>1</td>\n",
              "      <td>1</td>\n",
              "      <td>0.496418</td>\n",
              "      <td>-0.275106</td>\n",
              "      <td>1</td>\n",
              "      <td>0.22807</td>\n",
              "      <td>0.502821</td>\n",
              "      <td>0.709349</td>\n",
              "      <td>1.517219</td>\n",
              "      <td>0.451048</td>\n",
              "      <td>-0.283214</td>\n",
              "      <td>1.633091</td>\n",
              "      <td>1.023747</td>\n",
              "      <td>0.081022</td>\n",
              "      <td>4</td>\n",
              "      <td>3</td>\n",
              "      <td>1</td>\n",
              "    </tr>\n",
              "  </tbody>\n",
              "</table>\n",
              "</div>\n",
              "      <button class=\"colab-df-convert\" onclick=\"convertToInteractive('df-9d9b2a2d-089a-49b0-9ce5-39f3db95395a')\"\n",
              "              title=\"Convert this dataframe to an interactive table.\"\n",
              "              style=\"display:none;\">\n",
              "        \n",
              "  <svg xmlns=\"http://www.w3.org/2000/svg\" height=\"24px\"viewBox=\"0 0 24 24\"\n",
              "       width=\"24px\">\n",
              "    <path d=\"M0 0h24v24H0V0z\" fill=\"none\"/>\n",
              "    <path d=\"M18.56 5.44l.94 2.06.94-2.06 2.06-.94-2.06-.94-.94-2.06-.94 2.06-2.06.94zm-11 1L8.5 8.5l.94-2.06 2.06-.94-2.06-.94L8.5 2.5l-.94 2.06-2.06.94zm10 10l.94 2.06.94-2.06 2.06-.94-2.06-.94-.94-2.06-.94 2.06-2.06.94z\"/><path d=\"M17.41 7.96l-1.37-1.37c-.4-.4-.92-.59-1.43-.59-.52 0-1.04.2-1.43.59L10.3 9.45l-7.72 7.72c-.78.78-.78 2.05 0 2.83L4 21.41c.39.39.9.59 1.41.59.51 0 1.02-.2 1.41-.59l7.78-7.78 2.81-2.81c.8-.78.8-2.07 0-2.86zM5.41 20L4 18.59l7.72-7.72 1.47 1.35L5.41 20z\"/>\n",
              "  </svg>\n",
              "      </button>\n",
              "      \n",
              "  <style>\n",
              "    .colab-df-container {\n",
              "      display:flex;\n",
              "      flex-wrap:wrap;\n",
              "      gap: 12px;\n",
              "    }\n",
              "\n",
              "    .colab-df-convert {\n",
              "      background-color: #E8F0FE;\n",
              "      border: none;\n",
              "      border-radius: 50%;\n",
              "      cursor: pointer;\n",
              "      display: none;\n",
              "      fill: #1967D2;\n",
              "      height: 32px;\n",
              "      padding: 0 0 0 0;\n",
              "      width: 32px;\n",
              "    }\n",
              "\n",
              "    .colab-df-convert:hover {\n",
              "      background-color: #E2EBFA;\n",
              "      box-shadow: 0px 1px 2px rgba(60, 64, 67, 0.3), 0px 1px 3px 1px rgba(60, 64, 67, 0.15);\n",
              "      fill: #174EA6;\n",
              "    }\n",
              "\n",
              "    [theme=dark] .colab-df-convert {\n",
              "      background-color: #3B4455;\n",
              "      fill: #D2E3FC;\n",
              "    }\n",
              "\n",
              "    [theme=dark] .colab-df-convert:hover {\n",
              "      background-color: #434B5C;\n",
              "      box-shadow: 0px 1px 3px 1px rgba(0, 0, 0, 0.15);\n",
              "      filter: drop-shadow(0px 1px 2px rgba(0, 0, 0, 0.3));\n",
              "      fill: #FFFFFF;\n",
              "    }\n",
              "  </style>\n",
              "\n",
              "      <script>\n",
              "        const buttonEl =\n",
              "          document.querySelector('#df-9d9b2a2d-089a-49b0-9ce5-39f3db95395a button.colab-df-convert');\n",
              "        buttonEl.style.display =\n",
              "          google.colab.kernel.accessAllowed ? 'block' : 'none';\n",
              "\n",
              "        async function convertToInteractive(key) {\n",
              "          const element = document.querySelector('#df-9d9b2a2d-089a-49b0-9ce5-39f3db95395a');\n",
              "          const dataTable =\n",
              "            await google.colab.kernel.invokeFunction('convertToInteractive',\n",
              "                                                     [key], {});\n",
              "          if (!dataTable) return;\n",
              "\n",
              "          const docLinkHtml = 'Like what you see? Visit the ' +\n",
              "            '<a target=\"_blank\" href=https://colab.research.google.com/notebooks/data_table.ipynb>data table notebook</a>'\n",
              "            + ' to learn more about interactive tables.';\n",
              "          element.innerHTML = '';\n",
              "          dataTable['output_type'] = 'display_data';\n",
              "          await google.colab.output.renderOutput(dataTable, element);\n",
              "          const docLink = document.createElement('div');\n",
              "          docLink.innerHTML = docLinkHtml;\n",
              "          element.appendChild(docLink);\n",
              "        }\n",
              "      </script>\n",
              "    </div>\n",
              "  </div>\n",
              "  "
            ]
          },
          "metadata": {},
          "execution_count": 38
        }
      ]
    },
    {
      "cell_type": "markdown",
      "source": [
        "## Modeling"
      ],
      "metadata": {
        "id": "N8N4k5bGpzS6"
      }
    },
    {
      "cell_type": "markdown",
      "source": [
        "## Linear Regression\n"
      ],
      "metadata": {
        "id": "3txLgTVep6tv"
      }
    },
    {
      "cell_type": "markdown",
      "source": [
        "Splitting stores: Store1_10 and Store11_35"
      ],
      "metadata": {
        "id": "7l_ercqrzc7D"
      }
    },
    {
      "cell_type": "code",
      "source": [
        "store1_10=df.loc[df['Store']<=10]\n",
        "store11_35=df.loc[(df['Store'] >= 11) & (df['Store'] <= 35)]\n",
        "print(store1_10.shape)\n",
        "print(store11_35.shape)"
      ],
      "metadata": {
        "colab": {
          "base_uri": "https://localhost:8080/"
        },
        "id": "KSwZu5KipsnO",
        "outputId": "16bdcb64-d2d6-4485-8dd1-7aca30033b21"
      },
      "execution_count": null,
      "outputs": [
        {
          "output_type": "stream",
          "name": "stdout",
          "text": [
            "(96508, 18)\n",
            "(226519, 18)\n"
          ]
        }
      ]
    },
    {
      "cell_type": "markdown",
      "source": [
        "Stores1_10\n",
        "\n"
      ],
      "metadata": {
        "id": "8azh_Ozew-rK"
      }
    },
    {
      "cell_type": "code",
      "source": [
        "X = store1_10.drop(['Weekly_Sales','Type'],axis=1)\n",
        "Y = store1_10['Weekly_Sales']\n",
        "X_train,X_test,Y_train,Y_test = train_test_split(X,Y,test_size=0.2,random_state=42)\n",
        "\n",
        "transformer = ColumnTransformer(transformers=[('tf',OneHotEncoder(sparse=False,drop='first'),['Store'])],remainder='passthrough')\n",
        "X_train= transformer.fit_transform(X_train)\n",
        "X_test = transformer.transform(X_test)\n",
        "c = LinearRegression()\n",
        "c.fit(X_train,Y_train)\n",
        "y_pred = c.predict(X_test)\n",
        "# print(model)\n",
        "print(f'MSE: {mean_squared_error(Y_test,y_pred)}')\n",
        "print(f'MAE: {mean_absolute_error(Y_test,y_pred)}')\n",
        "print(f'R2 : {r2_score(Y_test,y_pred)}')"
      ],
      "metadata": {
        "colab": {
          "base_uri": "https://localhost:8080/"
        },
        "id": "KP2UKyYCtE49",
        "outputId": "a738fd77-532c-4a19-c5b6-dd96a78c9acb"
      },
      "execution_count": null,
      "outputs": [
        {
          "output_type": "stream",
          "name": "stdout",
          "text": [
            "MSE: 0.7880411373245544\n",
            "MAE: 0.6246598472526079\n",
            "R2 : 0.2508821045622597\n"
          ]
        }
      ]
    },
    {
      "cell_type": "code",
      "source": [
        "sns.regplot(Y_test,y_pred)"
      ],
      "metadata": {
        "colab": {
          "base_uri": "https://localhost:8080/",
          "height": 352
        },
        "id": "xIowK06sx3Jw",
        "outputId": "9b2005c1-6c79-4f4b-e190-e28604220cab"
      },
      "execution_count": null,
      "outputs": [
        {
          "output_type": "stream",
          "name": "stderr",
          "text": [
            "/usr/local/lib/python3.7/dist-packages/seaborn/_decorators.py:43: FutureWarning: Pass the following variables as keyword args: x, y. From version 0.12, the only valid positional argument will be `data`, and passing other arguments without an explicit keyword will result in an error or misinterpretation.\n",
            "  FutureWarning\n"
          ]
        },
        {
          "output_type": "execute_result",
          "data": {
            "text/plain": [
              "<matplotlib.axes._subplots.AxesSubplot at 0x7f3e4e6bce10>"
            ]
          },
          "metadata": {},
          "execution_count": 11
        },
        {
          "output_type": "display_data",
          "data": {
            "text/plain": [
              "<Figure size 432x288 with 1 Axes>"
            ],
            "image/png": "[encoded data removed]"
          },
          "metadata": {
            "needs_background": "light"
          }
        }
      ]
    },
    {
      "cell_type": "markdown",
      "source": [
        "Store11_35"
      ],
      "metadata": {
        "id": "wW7mCsY2zQWV"
      }
    },
    {
      "cell_type": "code",
      "source": [
        "X = store11_35.drop(['Weekly_Sales','Type'],axis=1)\n",
        "Y = store11_35['Weekly_Sales']\n",
        "X_train,X_test,Y_train,Y_test = train_test_split(X,Y,test_size=0.2,random_state=42)\n",
        "\n",
        "transformer = ColumnTransformer(transformers=[('tf',OneHotEncoder(sparse=False,drop='first'),['Store'])],remainder='passthrough')\n",
        "X_train= transformer.fit_transform(X_train)\n",
        "X_test = transformer.transform(X_test)\n",
        "c = LinearRegression()\n",
        "c.fit(X_train,Y_train)\n",
        "y_pred = c.predict(X_test)\n",
        "# print(model)\n",
        "print(f'MSE: {mean_squared_error(Y_test,y_pred)}')\n",
        "print(f'MAE: {mean_absolute_error(Y_test,y_pred)}')\n",
        "print(f'R2 : {r2_score(Y_test,y_pred)}')"
      ],
      "metadata": {
        "colab": {
          "base_uri": "https://localhost:8080/"
        },
        "id": "H1RD32ZLx9Oa",
        "outputId": "b67c662c-17c3-4a32-fb0f-3dd5ea1a9b8d"
      },
      "execution_count": null,
      "outputs": [
        {
          "output_type": "stream",
          "name": "stdout",
          "text": [
            "MSE: 0.7393404224768703\n",
            "MAE: 0.6253634598854412\n",
            "R2 : 0.19675135094369778\n"
          ]
        }
      ]
    },
    {
      "cell_type": "code",
      "source": [
        "sns.regplot(Y_test,y_pred)"
      ],
      "metadata": {
        "colab": {
          "base_uri": "https://localhost:8080/",
          "height": 354
        },
        "id": "s90NxvCY0UMt",
        "outputId": "5fb48f72-cc98-4c81-867b-f504d46ffd57"
      },
      "execution_count": null,
      "outputs": [
        {
          "output_type": "stream",
          "name": "stderr",
          "text": [
            "/usr/local/lib/python3.7/dist-packages/seaborn/_decorators.py:43: FutureWarning: Pass the following variables as keyword args: x, y. From version 0.12, the only valid positional argument will be `data`, and passing other arguments without an explicit keyword will result in an error or misinterpretation.\n",
            "  FutureWarning\n"
          ]
        },
        {
          "output_type": "execute_result",
          "data": {
            "text/plain": [
              "<matplotlib.axes._subplots.AxesSubplot at 0x7f3e4e648850>"
            ]
          },
          "metadata": {},
          "execution_count": 13
        },
        {
          "output_type": "display_data",
          "data": {
            "text/plain": [
              "<Figure size 432x288 with 1 Axes>"
            ],
            "image/png": "[encoded data removed]"
          },
          "metadata": {
            "needs_background": "light"
          }
        }
      ]
    },
    {
      "cell_type": "markdown",
      "source": [
        "Observation:\n",
        "\n",
        "\n",
        "*   R2 value should be between 0 to 1 (0.25 and 0.18 in our case) and value closer to 0 states that it doesnot explain any variations.\n",
        "*   It can be seen from the graph that the predicted values(scatter plot) are far from actual value(line plot). In such case we cant rely on this model."
      ],
      "metadata": {
        "id": "C-x294BT0J8p"
      }
    },
    {
      "cell_type": "markdown",
      "source": [
        "## Ridge Regression"
      ],
      "metadata": {
        "id": "N3pvxTOe0usT"
      }
    },
    {
      "cell_type": "markdown",
      "source": [
        "Store1_10"
      ],
      "metadata": {
        "id": "tgYKtjQk1F8K"
      }
    },
    {
      "cell_type": "code",
      "source": [
        "X = store1_10.drop(['Weekly_Sales','Type'],axis=1)\n",
        "Y = store1_10['Weekly_Sales']\n",
        "X_train,X_test,Y_train,Y_test = train_test_split(X,Y,test_size=0.2,random_state=42)\n",
        "\n",
        "transformer = ColumnTransformer(transformers=[('tf',OneHotEncoder(sparse=False,drop='first'),['Store'])],remainder='passthrough')\n",
        "X_train= transformer.fit_transform(X_train)\n",
        "X_test = transformer.transform(X_test)\n",
        "c = Ridge()\n",
        "c.fit(X_train,Y_train)\n",
        "y_pred = c.predict(X_test)\n",
        "# print(model)\n",
        "print(f'MSE: {mean_squared_error(Y_test,y_pred)}')\n",
        "print(f'MAE: {mean_absolute_error(Y_test,y_pred)}')\n",
        "print(f'R2 : {r2_score(Y_test,y_pred)}')"
      ],
      "metadata": {
        "colab": {
          "base_uri": "https://localhost:8080/"
        },
        "id": "Y2Xb6z1O0B8b",
        "outputId": "08414c66-aeac-4a74-91b3-483b9ab452e4"
      },
      "execution_count": null,
      "outputs": [
        {
          "output_type": "stream",
          "name": "stdout",
          "text": [
            "MSE: 0.8161764441536359\n",
            "MAE: 0.6495531298298004\n",
            "R2 : 0.22413646801991738\n"
          ]
        }
      ]
    },
    {
      "cell_type": "code",
      "source": [
        "sns.regplot(Y_test,y_pred)"
      ],
      "metadata": {
        "colab": {
          "base_uri": "https://localhost:8080/",
          "height": 352
        },
        "id": "ECK6WkGL0tDK",
        "outputId": "6f3b1bcd-b9ed-4b08-e427-07a0a080180a"
      },
      "execution_count": null,
      "outputs": [
        {
          "output_type": "stream",
          "name": "stderr",
          "text": [
            "/usr/local/lib/python3.7/dist-packages/seaborn/_decorators.py:43: FutureWarning: Pass the following variables as keyword args: x, y. From version 0.12, the only valid positional argument will be `data`, and passing other arguments without an explicit keyword will result in an error or misinterpretation.\n",
            "  FutureWarning\n"
          ]
        },
        {
          "output_type": "execute_result",
          "data": {
            "text/plain": [
              "<matplotlib.axes._subplots.AxesSubplot at 0x7f3e3f75e490>"
            ]
          },
          "metadata": {},
          "execution_count": 15
        },
        {
          "output_type": "display_data",
          "data": {
            "text/plain": [
              "<Figure size 432x288 with 1 Axes>"
            ],
            "image/png": "[encoded data removed]"
          },
          "metadata": {
            "needs_background": "light"
          }
        }
      ]
    },
    {
      "cell_type": "markdown",
      "source": [
        "Store11_35"
      ],
      "metadata": {
        "id": "ef9q-kxv1mAt"
      }
    },
    {
      "cell_type": "code",
      "source": [
        "X = store11_35.drop(['Weekly_Sales','Type'],axis=1)\n",
        "Y = store11_35['Weekly_Sales']\n",
        "X_train,X_test,Y_train,Y_test = train_test_split(X,Y,test_size=0.2,random_state=42)\n",
        "\n",
        "transformer = ColumnTransformer(transformers=[('tf',OneHotEncoder(sparse=False,drop='first'),['Store'])],remainder='passthrough')\n",
        "X_train= transformer.fit_transform(X_train)\n",
        "X_test = transformer.transform(X_test)\n",
        "c = Ridge()\n",
        "c.fit(X_train,Y_train)\n",
        "y_pred = c.predict(X_test)\n",
        "# print(model)\n",
        "print(f'MSE: {mean_squared_error(Y_test,y_pred)}')\n",
        "print(f'MAE: {mean_absolute_error(Y_test,y_pred)}')\n",
        "print(f'R2 : {r2_score(Y_test,y_pred)}')"
      ],
      "metadata": {
        "colab": {
          "base_uri": "https://localhost:8080/"
        },
        "id": "PfWaLMtx1M1T",
        "outputId": "2ed2db79-a171-4c88-9e22-6f2d3b29ad77"
      },
      "execution_count": null,
      "outputs": [
        {
          "output_type": "stream",
          "name": "stdout",
          "text": [
            "MSE: 0.79236680686\n",
            "MAE: 0.6698936019286715\n",
            "R2 : 0.1391413916810934\n"
          ]
        }
      ]
    },
    {
      "cell_type": "code",
      "source": [
        "sns.regplot(Y_test,y_pred)"
      ],
      "metadata": {
        "colab": {
          "base_uri": "https://localhost:8080/",
          "height": 352
        },
        "id": "JJOhrPIK1u35",
        "outputId": "e8d63f62-3c5e-4201-fa3a-0d66d9ff628f"
      },
      "execution_count": null,
      "outputs": [
        {
          "output_type": "stream",
          "name": "stderr",
          "text": [
            "/usr/local/lib/python3.7/dist-packages/seaborn/_decorators.py:43: FutureWarning: Pass the following variables as keyword args: x, y. From version 0.12, the only valid positional argument will be `data`, and passing other arguments without an explicit keyword will result in an error or misinterpretation.\n",
            "  FutureWarning\n"
          ]
        },
        {
          "output_type": "execute_result",
          "data": {
            "text/plain": [
              "<matplotlib.axes._subplots.AxesSubplot at 0x7f3e3f7d9850>"
            ]
          },
          "metadata": {},
          "execution_count": 17
        },
        {
          "output_type": "display_data",
          "data": {
            "text/plain": [
              "<Figure size 432x288 with 1 Axes>"
            ],
            "image/png": "[encoded data removed]"
          },
          "metadata": {
            "needs_background": "light"
          }
        }
      ]
    },
    {
      "cell_type": "markdown",
      "source": [
        "Observation:\n",
        "\n",
        "\n",
        "*   R2 value should be between 0 to 1 (0.22 and 0.12 in our case) and value closer to 0 states that it doesnot explain any variations.\n",
        "*   It can be seen from the graph that the predicted values(scatter plot) are far from actual value(line plot). In such case we cant rely on this model."
      ],
      "metadata": {
        "id": "y339K7fT11zM"
      }
    },
    {
      "cell_type": "markdown",
      "source": [
        "## Random Forest Classifier"
      ],
      "metadata": {
        "id": "d8hrQ16r19Ie"
      }
    },
    {
      "cell_type": "code",
      "source": [
        "X = store1_10.drop(['Weekly_Sales','Type'],axis=1)\n",
        "Y = store1_10['Weekly_Sales']\n",
        "X_train,X_test,Y_train,Y_test = train_test_split(X,Y,test_size=0.2,random_state=42)\n",
        "\n",
        "transformer = ColumnTransformer(transformers=[('tf',OneHotEncoder(sparse=False,drop='first'),['Store'])],remainder='passthrough')\n",
        "X_train= transformer.fit_transform(X_train)\n",
        "X_test = transformer.transform(X_test)\n",
        "c = RandomForestRegressor()\n",
        "c.fit(X_train,Y_train)\n",
        "y_pred = c.predict(X_test)\n",
        "# print(model)\n",
        "print(f'MSE: {mean_squared_error(Y_test,y_pred)}')\n",
        "print(f'MAE: {mean_absolute_error(Y_test,y_pred)}')\n",
        "print(f'R2 : {r2_score(Y_test,y_pred)}')"
      ],
      "metadata": {
        "colab": {
          "base_uri": "https://localhost:8080/"
        },
        "id": "FcyUX2ir1xkh",
        "outputId": "a868ae8f-695d-4701-b938-af840229ac67"
      },
      "execution_count": null,
      "outputs": [
        {
          "output_type": "stream",
          "name": "stdout",
          "text": [
            "MSE: 0.03528361481900656\n",
            "MAE: 0.08192329053644175\n",
            "R2 : 0.9664591275445508\n"
          ]
        }
      ]
    },
    {
      "cell_type": "code",
      "source": [
        "sns.regplot(Y_test,y_pred)"
      ],
      "metadata": {
        "colab": {
          "base_uri": "https://localhost:8080/",
          "height": 352
        },
        "id": "j1hdIYeL2LJ_",
        "outputId": "fb19a4a6-1255-4682-cf60-3006bc55c550"
      },
      "execution_count": null,
      "outputs": [
        {
          "output_type": "stream",
          "name": "stderr",
          "text": [
            "/usr/local/lib/python3.7/dist-packages/seaborn/_decorators.py:43: FutureWarning: Pass the following variables as keyword args: x, y. From version 0.12, the only valid positional argument will be `data`, and passing other arguments without an explicit keyword will result in an error or misinterpretation.\n",
            "  FutureWarning\n"
          ]
        },
        {
          "output_type": "execute_result",
          "data": {
            "text/plain": [
              "<matplotlib.axes._subplots.AxesSubplot at 0x7f3e3f7e0c50>"
            ]
          },
          "metadata": {},
          "execution_count": 19
        },
        {
          "output_type": "display_data",
          "data": {
            "text/plain": [
              "<Figure size 432x288 with 1 Axes>"
            ],
            "image/png": "[encoded data removed]"
          },
          "metadata": {
            "needs_background": "light"
          }
        }
      ]
    },
    {
      "cell_type": "markdown",
      "source": [
        "Store11_35"
      ],
      "metadata": {
        "id": "Y3vpYlFE3d_t"
      }
    },
    {
      "cell_type": "code",
      "source": [
        "X = store11_35.drop(['Weekly_Sales','Type'],axis=1)\n",
        "Y = store11_35['Weekly_Sales']\n",
        "X_train,X_test,Y_train,Y_test = train_test_split(X,Y,test_size=0.2,random_state=42)\n",
        "\n",
        "transformer = ColumnTransformer(transformers=[('tf',OneHotEncoder(sparse=False,drop='first'),['Store'])],remainder='passthrough')\n",
        "X_train= transformer.fit_transform(X_train)\n",
        "X_test = transformer.transform(X_test)\n",
        "c = RandomForestRegressor()\n",
        "c.fit(X_train,Y_train)\n",
        "y_pred = c.predict(X_test)\n",
        "# print(model)\n",
        "print(f'MSE: {mean_squared_error(Y_test,y_pred)}')\n",
        "print(f'MAE: {mean_absolute_error(Y_test,y_pred)}')\n",
        "print(f'R2 : {r2_score(Y_test,y_pred)}')"
      ],
      "metadata": {
        "colab": {
          "base_uri": "https://localhost:8080/"
        },
        "id": "0-Tsc4GX3Zs1",
        "outputId": "3a7da6c2-61c0-4e71-eee4-78c55a8f8789"
      },
      "execution_count": null,
      "outputs": [
        {
          "output_type": "stream",
          "name": "stdout",
          "text": [
            "MSE: 0.03543457281792551\n",
            "MAE: 0.08072807896945104\n",
            "R2 : 0.9615024799394405\n"
          ]
        }
      ]
    },
    {
      "cell_type": "code",
      "source": [
        "sns.regplot(Y_test,y_pred)"
      ],
      "metadata": {
        "id": "SGwb1b0Y4MLy",
        "colab": {
          "base_uri": "https://localhost:8080/",
          "height": 354
        },
        "outputId": "de49609c-5d1f-46a8-dd3f-844dbd16a0f8"
      },
      "execution_count": null,
      "outputs": [
        {
          "output_type": "stream",
          "name": "stderr",
          "text": [
            "/usr/local/lib/python3.7/dist-packages/seaborn/_decorators.py:43: FutureWarning: Pass the following variables as keyword args: x, y. From version 0.12, the only valid positional argument will be `data`, and passing other arguments without an explicit keyword will result in an error or misinterpretation.\n",
            "  FutureWarning\n"
          ]
        },
        {
          "output_type": "execute_result",
          "data": {
            "text/plain": [
              "<matplotlib.axes._subplots.AxesSubplot at 0x7f5f07514850>"
            ]
          },
          "metadata": {},
          "execution_count": 41
        },
        {
          "output_type": "display_data",
          "data": {
            "text/plain": [
              "<Figure size 432x288 with 1 Axes>"
            ],
            "image/png": "[encoded data removed]"
          },
          "metadata": {
            "needs_background": "light"
          }
        }
      ]
    },
    {
      "cell_type": "markdown",
      "source": [
        "Observation: \n",
        "\n",
        "\n",
        "*   As we can see from R2 value which is close to 1 (0.96 and 0.96 in our case) it explains all the variation\n",
        "*   It can be seen from the graph that the predicted values(scatter plot) are clumped around actual value(line) which shows that actual and predicted values are close to ine another. In such case we can rely on this model.\n",
        "\n"
      ],
      "metadata": {
        "id": "D2dO42IU5SJ7"
      }
    },
    {
      "cell_type": "markdown",
      "source": [
        "## XGBoost"
      ],
      "metadata": {
        "id": "HahduwiSKshD"
      }
    },
    {
      "cell_type": "markdown",
      "source": [
        "Store1_10"
      ],
      "metadata": {
        "id": "R1bJ73s7KxC2"
      }
    },
    {
      "cell_type": "code",
      "source": [
        "X = store1_10.drop(['Weekly_Sales','Type'],axis=1)\n",
        "Y = store1_10['Weekly_Sales']\n",
        "X_train,X_test,Y_train,Y_test = train_test_split(X,Y,test_size=0.2,random_state=42)\n",
        "\n",
        "transformer = ColumnTransformer(transformers=[('tf',OneHotEncoder(sparse=False,drop='first'),['Store'])],remainder='passthrough')\n",
        "X_train= transformer.fit_transform(X_train)\n",
        "X_test = transformer.transform(X_test)\n",
        "c = XGBRegressor()\n",
        "c.fit(X_train,Y_train)\n",
        "y_pred = c.predict(X_test)\n",
        "# print(model)\n",
        "print(f'MSE: {mean_squared_error(Y_test,y_pred)}')\n",
        "print(f'MAE: {mean_absolute_error(Y_test,y_pred)}')\n",
        "print(f'R2 : {r2_score(Y_test,y_pred)}')"
      ],
      "metadata": {
        "colab": {
          "base_uri": "https://localhost:8080/"
        },
        "id": "XA5E2-z65NK3",
        "outputId": "ff9cf08a-153f-47ef-ba06-80cd41210d4e"
      },
      "execution_count": null,
      "outputs": [
        {
          "output_type": "stream",
          "name": "stdout",
          "text": [
            "[04:36:55] WARNING: /workspace/src/objective/regression_obj.cu:152: reg:linear is now deprecated in favor of reg:squarederror.\n",
            "MSE: 0.20008958647788302\n",
            "MAE: 0.31092388119724873\n",
            "R2 : 0.8097933181125454\n"
          ]
        }
      ]
    },
    {
      "cell_type": "code",
      "source": [
        "sns.regplot(Y_test,y_pred)"
      ],
      "metadata": {
        "colab": {
          "base_uri": "https://localhost:8080/",
          "height": 354
        },
        "id": "SWtcz4qWLP-Y",
        "outputId": "c1af3337-e7b5-41c0-a6f1-d0abf73f17e3"
      },
      "execution_count": null,
      "outputs": [
        {
          "output_type": "stream",
          "name": "stderr",
          "text": [
            "/usr/local/lib/python3.7/dist-packages/seaborn/_decorators.py:43: FutureWarning: Pass the following variables as keyword args: x, y. From version 0.12, the only valid positional argument will be `data`, and passing other arguments without an explicit keyword will result in an error or misinterpretation.\n",
            "  FutureWarning\n"
          ]
        },
        {
          "output_type": "execute_result",
          "data": {
            "text/plain": [
              "<matplotlib.axes._subplots.AxesSubplot at 0x7f3e4e1c1d90>"
            ]
          },
          "metadata": {},
          "execution_count": 25
        },
        {
          "output_type": "display_data",
          "data": {
            "text/plain": [
              "<Figure size 432x288 with 1 Axes>"
            ],
            "image/png": "[encoded data removed]"
          },
          "metadata": {
            "needs_background": "light"
          }
        }
      ]
    },
    {
      "cell_type": "markdown",
      "source": [
        "Store11_35"
      ],
      "metadata": {
        "id": "AtuFaSq_LTDu"
      }
    },
    {
      "cell_type": "code",
      "source": [
        "X = store11_35.drop(['Weekly_Sales','Type'],axis=1)\n",
        "Y = store11_35['Weekly_Sales']\n",
        "X_train,X_test,Y_train,Y_test = train_test_split(X,Y,test_size=0.2,random_state=42)\n",
        "\n",
        "transformer = ColumnTransformer(transformers=[('tf',OneHotEncoder(sparse=False,drop='first'),['Store'])],remainder='passthrough')\n",
        "X_train= transformer.fit_transform(X_train)\n",
        "X_test = transformer.transform(X_test)\n",
        "c = XGBRegressor()\n",
        "c.fit(X_train,Y_train)\n",
        "y_pred = c.predict(X_test)\n",
        "# print(model)\n",
        "print(f'MSE: {mean_squared_error(Y_test,y_pred)}')\n",
        "print(f'MAE: {mean_absolute_error(Y_test,y_pred)}')\n",
        "print(f'R2 : {r2_score(Y_test,y_pred)}')"
      ],
      "metadata": {
        "colab": {
          "base_uri": "https://localhost:8080/"
        },
        "id": "8NTBuZP0KnXD",
        "outputId": "03b8e062-8077-447a-ee88-44e7abc352fc"
      },
      "execution_count": null,
      "outputs": [
        {
          "output_type": "stream",
          "name": "stdout",
          "text": [
            "[04:37:42] WARNING: /workspace/src/objective/regression_obj.cu:152: reg:linear is now deprecated in favor of reg:squarederror.\n",
            "MSE: 0.2276660170837622\n",
            "MAE: 0.3426508749719278\n",
            "R2 : 0.7526546431129537\n"
          ]
        }
      ]
    },
    {
      "cell_type": "code",
      "source": [
        "sns.regplot(Y_test,y_pred)"
      ],
      "metadata": {
        "colab": {
          "base_uri": "https://localhost:8080/",
          "height": 352
        },
        "id": "wvTsRVatK92y",
        "outputId": "677187cc-af9b-4a2c-c09f-f711c17e0693"
      },
      "execution_count": null,
      "outputs": [
        {
          "output_type": "stream",
          "name": "stderr",
          "text": [
            "/usr/local/lib/python3.7/dist-packages/seaborn/_decorators.py:43: FutureWarning: Pass the following variables as keyword args: x, y. From version 0.12, the only valid positional argument will be `data`, and passing other arguments without an explicit keyword will result in an error or misinterpretation.\n",
            "  FutureWarning\n"
          ]
        },
        {
          "output_type": "execute_result",
          "data": {
            "text/plain": [
              "<matplotlib.axes._subplots.AxesSubplot at 0x7f3e4e1c1650>"
            ]
          },
          "metadata": {},
          "execution_count": 27
        },
        {
          "output_type": "display_data",
          "data": {
            "text/plain": [
              "<Figure size 432x288 with 1 Axes>"
            ],
            "image/png": "[encoded data removed]"
          },
          "metadata": {
            "needs_background": "light"
          }
        }
      ]
    },
    {
      "cell_type": "markdown",
      "source": [
        "Observation: \n",
        "\n",
        "\n",
        "*   As we can see from R2 value which is close to 1 (0.81 and 0.75 in our case) it explains all the variation\n",
        "*   It can be seen from the graph that the predicted values(scatter plot) are clumped around actual value(line) which shows that actual and predicted values are close to ine another. In such case we can rely on this model.\n",
        "\n"
      ],
      "metadata": {
        "id": "E-Z4bzbNLmN7"
      }
    },
    {
      "cell_type": "markdown",
      "source": [
        "## **Arima Model**"
      ],
      "metadata": {
        "id": "gvCFY5f5bejX"
      }
    },
    {
      "cell_type": "code",
      "source": [
        "from statsmodels.tsa.stattools import adfuller\n",
        "def ad_test(dataset):\n",
        "     dftest = adfuller(dataset, autolag = 'AIC')\n",
        "     print(\"1. ADF : \",dftest[0])\n",
        "     print(\"2. P-Value : \", dftest[1])\n",
        "     print(\"3. Num Of Lags : \", dftest[2])\n",
        "     print(\"4. Num Of Observations Used For ADF Regression:\",      dftest[3])\n",
        "     print(\"5. Critical Values :\")\n",
        "     for key, val in dftest[4].items():\n",
        "         print(\"\\t\",key, \": \", val)\n"
      ],
      "metadata": {
        "id": "FP8IjYQmUUtj"
      },
      "execution_count": null,
      "outputs": []
    },
    {
      "cell_type": "code",
      "source": [
        "def isSeriesStationary(series):\n",
        "    pValue = adfuller(series)[1]\n",
        "    if pValue > 0.05:\n",
        "        return False\n",
        "    else:\n",
        "        return True\n",
        "def isSeriesStationaryAvg(series, delta = 2):\n",
        "    split = int(len(series)/2)\n",
        "    split1, split2 = series[:split], series[split:]\n",
        "    avg1, avg2 = split1.mean(), split2.mean()\n",
        "    var1, var2 = split1.var(), split2.var()\n",
        "    if abs(avg1 - avg2) > delta or abs(var1 - var2) > delta**2:\n",
        "        return False\n",
        "    else:\n",
        "        return True"
      ],
      "metadata": {
        "id": "B8Dawu-GVj5P"
      },
      "execution_count": null,
      "outputs": []
    },
    {
      "cell_type": "code",
      "source": [
        "import matplotlib\n",
        "import matplotlib.pyplot as plt\n",
        "def difference(dataset, interval=1):\n",
        "    diff = list()\n",
        "    for i in range(interval, len(dataset)):\n",
        "        value = dataset[i] - dataset[i - interval]\n",
        "        diff.append(value)\n",
        "    return np.array(diff)\n",
        "\n",
        "def inverse_difference(history, yhat, interval=1):\n",
        "    return yhat + history[-interval]\n",
        "\n",
        "def describeSeries(data, label):\n",
        "    fig = matplotlib.pyplot.gcf()\n",
        "    fig.set_size_inches(18.5, 10.5)\n",
        "    plt.plot(data, label = \"Series\")\n",
        "    plt.plot(pd.rolling_mean(data, window = 2), '--', label = \"Rolling mean\")\n",
        "    plt.plot(pd.rolling_std(data, 2), \":\", label = \"Rolling Std\")\n",
        "    plt.legend()\n",
        "    plt.savefig(label)\n",
        "    plt.clf()"
      ],
      "metadata": {
        "id": "iRfEyXNmVoUe"
      },
      "execution_count": null,
      "outputs": []
    },
    {
      "cell_type": "code",
      "source": [
        "def splitTrainTest(series, testSplit):\n",
        "    totalData = len(series)\n",
        "    trainSplit = int(totalData * (1 - testSplit))\n",
        "    trainSet = series[:trainSplit]\n",
        "    testSet = series[trainSplit:]\n",
        "    return trainSet, testSet"
      ],
      "metadata": {
        "id": "XgdJ7pU_VtUA"
      },
      "execution_count": null,
      "outputs": []
    },
    {
      "cell_type": "markdown",
      "source": [
        "Dataset of Stores 1 to 10"
      ],
      "metadata": {
        "id": "K67Hzd7CbkkP"
      }
    },
    {
      "cell_type": "code",
      "source": [
        "ad_test(store1_10['Weekly_Sales'])"
      ],
      "metadata": {
        "colab": {
          "base_uri": "https://localhost:8080/"
        },
        "id": "O8ziqjlZWRTQ",
        "outputId": "7d42866a-ffbe-4121-cd23-fbbb1b018729"
      },
      "execution_count": null,
      "outputs": [
        {
          "output_type": "stream",
          "name": "stdout",
          "text": [
            "1. ADF :  -14.74187333715586\n",
            "2. P-Value :  2.563295044567325e-27\n",
            "3. Num Of Lags :  64\n",
            "4. Num Of Observations Used For ADF Regression: 96443\n",
            "5. Critical Values :\n",
            "\t 1% :  -3.430417806622145\n",
            "\t 5% :  -2.861569969452484\n",
            "\t 10% :  -2.5667859516929794\n"
          ]
        }
      ]
    },
    {
      "cell_type": "markdown",
      "source": [
        "If p< 0.05 ; Data is stationary\n",
        "\n",
        "if p>0.05; Data is not stationary\n",
        "\n",
        "Larger p value could indicate presence of certain trends(varying mean) or seasonality as well."
      ],
      "metadata": {
        "id": "9Mnht8pmXz8J"
      }
    },
    {
      "cell_type": "code",
      "source": [
        "isSeriesStationaryAvg(store1_10[\"Weekly_Sales\"].values)"
      ],
      "metadata": {
        "colab": {
          "base_uri": "https://localhost:8080/"
        },
        "id": "uyofribWWY0d",
        "outputId": "2bf622b9-b6fb-42b6-e0c9-97303ac1f520"
      },
      "execution_count": null,
      "outputs": [
        {
          "output_type": "execute_result",
          "data": {
            "text/plain": [
              "True"
            ]
          },
          "metadata": {},
          "execution_count": 49
        }
      ]
    },
    {
      "cell_type": "markdown",
      "source": [
        "Checking whether there is stationary values present or not"
      ],
      "metadata": {
        "id": "Oo6IBKnqb6P1"
      }
    },
    {
      "cell_type": "code",
      "source": [
        "isSeriesStationary(store1_10[\"Weekly_Sales\"].values)"
      ],
      "metadata": {
        "colab": {
          "base_uri": "https://localhost:8080/"
        },
        "id": "-mpfYtErWaay",
        "outputId": "ef3d92e8-7310-4f37-87f8-df28a44c29a9"
      },
      "execution_count": null,
      "outputs": [
        {
          "output_type": "execute_result",
          "data": {
            "text/plain": [
              "True"
            ]
          },
          "metadata": {},
          "execution_count": 50
        }
      ]
    },
    {
      "cell_type": "markdown",
      "source": [
        "Figuring out the stationarity of the dataset"
      ],
      "metadata": {
        "id": "dm2OwPyhcAbR"
      }
    },
    {
      "cell_type": "code",
      "source": [
        "trainSet, testSet = splitTrainTest(store1_10[\"Weekly_Sales\"].values, 0.1)"
      ],
      "metadata": {
        "id": "EqN9C_qFWeWf"
      },
      "execution_count": null,
      "outputs": []
    },
    {
      "cell_type": "markdown",
      "source": [
        "Splitting the dataset in to training and testing part."
      ],
      "metadata": {
        "id": "CBS1GQGRcME_"
      }
    },
    {
      "cell_type": "code",
      "source": [
        "import statsmodels.api as sm\n",
        "differencedTrainSet = difference(trainSet, 365)\n",
        "model = sm.tsa.arima.ARIMA(differencedTrainSet, order=(7,0,1))\n",
        "\"\"\"Fit model with non constant trend and no displacement\"\"\"\n",
        "model_fit = model.fit()\n",
        "forecast = model_fit.predict(len(differencedTrainSet), len(differencedTrainSet) + len(testSet))"
      ],
      "metadata": {
        "colab": {
          "base_uri": "https://localhost:8080/"
        },
        "id": "Zmgw69bdWLTA",
        "outputId": "8367d7d8-43c5-424d-c2b1-f8555909c1c3"
      },
      "execution_count": null,
      "outputs": [
        {
          "output_type": "stream",
          "name": "stderr",
          "text": [
            "/usr/local/lib/python3.7/dist-packages/statsmodels/base/model.py:568: ConvergenceWarning: Maximum Likelihood optimization failed to converge. Check mle_retvals\n",
            "  ConvergenceWarning)\n"
          ]
        }
      ]
    },
    {
      "cell_type": "code",
      "source": [
        "yPrediction = []\n",
        "history = list(trainSet)\n",
        "for f in forecast:\n",
        "    yPredict = inverse_difference(history, f, 365)\n",
        "    yPrediction.append(yPredict)\n",
        "    history.append(yPredict)"
      ],
      "metadata": {
        "id": "fFlBUdCEWh2h"
      },
      "execution_count": null,
      "outputs": []
    },
    {
      "cell_type": "code",
      "source": [
        "import matplotlib\n",
        "import matplotlib.pyplot as plt\n",
        "\n",
        "fig = matplotlib.pyplot.gcf()\n",
        "fig.set_size_inches(30.5, 10.5)\n",
        "plt.plot(testSet[:500], color='green', label = \"Test\")\n",
        "plt.plot(yPrediction[:500], color='red', label = \"Prediction\")\n",
        "plt.gca().get_lines()[0].get_xydata()\n",
        "plt.legend()"
      ],
      "metadata": {
        "colab": {
          "base_uri": "https://localhost:8080/",
          "height": 527
        },
        "id": "57dOhfUmWjtK",
        "outputId": "4c6ec501-e627-4366-bc4a-4f6613b47ea7"
      },
      "execution_count": null,
      "outputs": [
        {
          "output_type": "execute_result",
          "data": {
            "text/plain": [
              "<matplotlib.legend.Legend at 0x7f5f01e75890>"
            ]
          },
          "metadata": {},
          "execution_count": 54
        },
        {
          "output_type": "display_data",
          "data": {
            "text/plain": [
              "<Figure size 2196x756 with 1 Axes>"
            ],
            "image/png": "[encoded data removed]"
          },
          "metadata": {
            "needs_background": "light"
          }
        }
      ]
    },
    {
      "cell_type": "code",
      "source": [
        "print(f'MSE: {mean_squared_error(testSet, yPrediction[:-1])}')\n",
        "print(f'MAE: {mean_absolute_error(testSet, yPrediction[:-1])}')\n",
        "print(f'R2 : {r2_score(testSet, yPrediction[:-1])}')"
      ],
      "metadata": {
        "colab": {
          "base_uri": "https://localhost:8080/"
        },
        "id": "fdAw_P9cXEQG",
        "outputId": "b061736e-2aed-428d-a41f-4fb51803f752"
      },
      "execution_count": null,
      "outputs": [
        {
          "output_type": "stream",
          "name": "stdout",
          "text": [
            "MSE: 30.633598385018153\n",
            "MAE: 4.902795855140299\n",
            "R2 : -20.788963944926333\n"
          ]
        }
      ]
    },
    {
      "cell_type": "markdown",
      "source": [
        "Dataset of Stores 11 to 35"
      ],
      "metadata": {
        "id": "wgFLCDrjbrce"
      }
    },
    {
      "cell_type": "code",
      "source": [
        "ad_test(store11_35['Weekly_Sales'])"
      ],
      "metadata": {
        "colab": {
          "base_uri": "https://localhost:8080/"
        },
        "id": "R7sZ7aLOVOFa",
        "outputId": "f50de4c1-0bf0-493a-dbba-69e6e2d11ec2"
      },
      "execution_count": null,
      "outputs": [
        {
          "output_type": "stream",
          "name": "stdout",
          "text": [
            "1. ADF :  -23.046542733740555\n",
            "2. P-Value :  0.0\n",
            "3. Num Of Lags :  74\n",
            "4. Num Of Observations Used For ADF Regression: 226444\n",
            "5. Critical Values :\n",
            "\t 1% :  -3.4303788785489138\n",
            "\t 5% :  -2.861552763944722\n",
            "\t 10% :  -2.5667767937874477\n"
          ]
        }
      ]
    },
    {
      "cell_type": "code",
      "source": [
        "isSeriesStationaryAvg(store11_35[\"Weekly_Sales\"].values)"
      ],
      "metadata": {
        "colab": {
          "base_uri": "https://localhost:8080/"
        },
        "id": "M96gDFrfXZEZ",
        "outputId": "94e67cb4-cdc4-4097-8459-5168d0e92839"
      },
      "execution_count": null,
      "outputs": [
        {
          "output_type": "execute_result",
          "data": {
            "text/plain": [
              "True"
            ]
          },
          "metadata": {},
          "execution_count": 56
        }
      ]
    },
    {
      "cell_type": "code",
      "source": [
        "isSeriesStationary(store11_35[\"Weekly_Sales\"].values)"
      ],
      "metadata": {
        "colab": {
          "base_uri": "https://localhost:8080/"
        },
        "id": "f7g7-9LTXboc",
        "outputId": "5f023b6a-90e7-495a-b773-681942a917b6"
      },
      "execution_count": null,
      "outputs": [
        {
          "output_type": "execute_result",
          "data": {
            "text/plain": [
              "True"
            ]
          },
          "metadata": {},
          "execution_count": 57
        }
      ]
    },
    {
      "cell_type": "code",
      "source": [
        "trainSet, testSet = splitTrainTest(store11_35[\"Weekly_Sales\"].values, 0.1)"
      ],
      "metadata": {
        "id": "dFrmS7viXdch"
      },
      "execution_count": null,
      "outputs": []
    },
    {
      "cell_type": "code",
      "source": [
        "differencedTrainSet = difference(trainSet, 365)\n",
        "model = sm.tsa.arima.ARIMA(differencedTrainSet, order=(7,0,1))\n",
        "\"\"\"Fit model with non constant trend and no displacement\"\"\"\n",
        "model_fit = model.fit()\n",
        "forecast = model_fit.predict(len(differencedTrainSet), len(differencedTrainSet) + len(testSet))"
      ],
      "metadata": {
        "colab": {
          "base_uri": "https://localhost:8080/"
        },
        "id": "Khj2lTy7XnZc",
        "outputId": "f43cbe97-adf7-4d72-8363-33e1cb1006ce"
      },
      "execution_count": null,
      "outputs": [
        {
          "output_type": "stream",
          "name": "stderr",
          "text": [
            "/usr/local/lib/python3.7/dist-packages/statsmodels/base/model.py:568: ConvergenceWarning: Maximum Likelihood optimization failed to converge. Check mle_retvals\n",
            "  ConvergenceWarning)\n"
          ]
        }
      ]
    },
    {
      "cell_type": "code",
      "source": [
        "yPrediction = []\n",
        "history = list(trainSet)\n",
        "for f in forecast:\n",
        "    yPredict = inverse_difference(history, f, 365)\n",
        "    yPrediction.append(yPredict)\n",
        "    history.append(yPredict)"
      ],
      "metadata": {
        "id": "ftnHTbgMXoIb"
      },
      "execution_count": null,
      "outputs": []
    },
    {
      "cell_type": "code",
      "source": [
        "fig = matplotlib.pyplot.gcf()\n",
        "fig.set_size_inches(30.5, 10.5)\n",
        "plt.plot(testSet[:1000], color='green', label = \"Test\")\n",
        "plt.plot(yPrediction[:1000], color='red', label = \"Prediction\")\n",
        "plt.gca().get_lines()[0].get_xydata()\n",
        "plt.legend()"
      ],
      "metadata": {
        "colab": {
          "base_uri": "https://localhost:8080/",
          "height": 522
        },
        "id": "AUqPke82XtXc",
        "outputId": "9da31e21-1fba-4dc0-b4be-81bf44d0c38a"
      },
      "execution_count": null,
      "outputs": [
        {
          "output_type": "execute_result",
          "data": {
            "text/plain": [
              "<matplotlib.legend.Legend at 0x7f5f0317f690>"
            ]
          },
          "metadata": {},
          "execution_count": 64
        },
        {
          "output_type": "display_data",
          "data": {
            "text/plain": [
              "<Figure size 2196x756 with 1 Axes>"
            ],
            "image/png": "[encoded data removed]"
          },
          "metadata": {
            "needs_background": "light"
          }
        }
      ]
    },
    {
      "cell_type": "code",
      "source": [
        "print(f'MSE: {mean_squared_error(testSet, yPrediction[:-1])}')\n",
        "print(f'MAE: {mean_absolute_error(testSet, yPrediction[:-1])}')\n",
        "print(f'R2 : {r2_score(testSet, yPrediction[:-1])}')"
      ],
      "metadata": {
        "colab": {
          "base_uri": "https://localhost:8080/"
        },
        "id": "VQUTdP-TXvry",
        "outputId": "de1186f7-3874-479b-d92c-681c391431c5"
      },
      "execution_count": null,
      "outputs": [
        {
          "output_type": "stream",
          "name": "stdout",
          "text": [
            "MSE: 1.8384723934543519\n",
            "MAE: 0.9341963836686561\n",
            "R2 : -0.8047079119326921\n"
          ]
        }
      ]
    },
    {
      "cell_type": "markdown",
      "source": [
        "## **Ensemble Models**"
      ],
      "metadata": {
        "id": "r97_611D9mvD"
      }
    },
    {
      "cell_type": "code",
      "source": [
        "from google.colab import drive\n",
        "drive.mount('/content/drive')"
      ],
      "metadata": {
        "colab": {
          "base_uri": "https://localhost:8080/"
        },
        "id": "ow9GYto49t5i",
        "outputId": "a70d63cd-8d9a-4fed-9bbe-c377579aa469"
      },
      "execution_count": null,
      "outputs": [
        {
          "output_type": "stream",
          "name": "stdout",
          "text": [
            "Mounted at /content/drive\n"
          ]
        }
      ]
    },
    {
      "cell_type": "code",
      "source": [
        "# importing utility modules\n",
        "import pandas as pd\n",
        "from sklearn.model_selection import train_test_split\n",
        "from sklearn.metrics import log_loss\n",
        "from sklearn.preprocessing import LabelEncoder\n",
        "# importing machine learning models for prediction\n",
        "from sklearn.ensemble import RandomForestClassifier\n",
        "from xgboost import XGBClassifier\n",
        "from sklearn.linear_model import LogisticRegression\n",
        "from sklearn.preprocessing import MinMaxScaler\n",
        "from sklearn.model_selection import GridSearchCV\n",
        "\n",
        "# importing voting classifier\n",
        "from sklearn.ensemble import VotingClassifier"
      ],
      "metadata": {
        "id": "hDV3dfwc95Vt"
      },
      "execution_count": null,
      "outputs": []
    },
    {
      "cell_type": "code",
      "source": [
        "# loading the combined stores, columns and features set in dataframe data after pre-processing\n",
        "data_set = pd.read_excel('/content/drive/MyDrive/CECS_551/output.xlsx')\n"
      ],
      "metadata": {
        "id": "dXKbgVZY-iSF"
      },
      "execution_count": null,
      "outputs": []
    },
    {
      "cell_type": "code",
      "source": [
        "data_ = data_set"
      ],
      "metadata": {
        "id": "dPFmaLuqg3IB"
      },
      "execution_count": null,
      "outputs": []
    },
    {
      "cell_type": "code",
      "source": [
        "#Counting total number of store types.\n",
        "totalCount = data_.Type.value_counts().sum()\n",
        "#Counting total number of stores with type C.\n",
        "cCount = data_.Type.value_counts().C\n",
        "print(\"Percentage of C type Stores\", (cCount/totalCount)*100)"
      ],
      "metadata": {
        "colab": {
          "base_uri": "https://localhost:8080/"
        },
        "id": "8D8Hb8IvM5E4",
        "outputId": "4858ec45-8c4d-466e-db86-e20bd98a49b8"
      },
      "execution_count": null,
      "outputs": [
        {
          "output_type": "stream",
          "name": "stdout",
          "text": [
            "Percentage of C type Stores 10.104371753208245\n"
          ]
        }
      ]
    },
    {
      "cell_type": "code",
      "source": [
        "data = data_.dropna()\n",
        "data = data.sample(frac=0.1)\n",
        "y = data.pop('Type')\n",
        "data_ = data.drop('Date',axis=1)"
      ],
      "metadata": {
        "id": "K0upIjaN_eCz"
      },
      "execution_count": null,
      "outputs": []
    },
    {
      "cell_type": "code",
      "source": [
        "X = data_\n",
        "X_ = X.to_numpy().astype('float32')"
      ],
      "metadata": {
        "id": "Zb_COwQY_gbx"
      },
      "execution_count": null,
      "outputs": []
    },
    {
      "cell_type": "code",
      "source": [
        "le = LabelEncoder()\n",
        "transformed = le.fit_transform(y.to_numpy().reshape(-1, 1))\n"
      ],
      "metadata": {
        "colab": {
          "base_uri": "https://localhost:8080/"
        },
        "id": "Y5h46xWg_jxH",
        "outputId": "5b4cbbd6-e677-438d-dc1b-bf7dd68acaf6"
      },
      "execution_count": null,
      "outputs": [
        {
          "output_type": "stream",
          "name": "stderr",
          "text": [
            "/usr/local/lib/python3.7/dist-packages/sklearn/preprocessing/_label.py:115: DataConversionWarning: A column-vector y was passed when a 1d array was expected. Please change the shape of y to (n_samples, ), for example using ravel().\n",
            "  y = column_or_1d(y, warn=True)\n"
          ]
        }
      ]
    },
    {
      "cell_type": "code",
      "source": [
        "scaler = MinMaxScaler()\n",
        "data_scaled = scaler.fit_transform(X_)\n",
        "X__ = data_scaled"
      ],
      "metadata": {
        "id": "1m9kEuzu_l9f"
      },
      "execution_count": null,
      "outputs": []
    },
    {
      "cell_type": "code",
      "source": [
        "from sklearn.model_selection import train_test_split\n",
        "from sklearn.model_selection import GridSearchCV\n",
        "from sklearn import metrics  \n",
        "from sklearn.metrics import confusion_matrix\n",
        "from sklearn.metrics import classification_report\n",
        "from sklearn.metrics import roc_auc_score\n",
        "\n",
        "import warnings\n",
        "\n",
        "from sklearn.ensemble import RandomForestClassifier\n",
        "from sklearn.ensemble import GradientBoostingClassifier\n",
        "from sklearn.ensemble import AdaBoostClassifier\n",
        "from sklearn.ensemble import BaggingClassifier\n",
        "from sklearn.tree import DecisionTreeClassifier\n",
        "from xgboost import XGBClassifier\n",
        "\n",
        "from sklearn.metrics import log_loss\n",
        "from sklearn.preprocessing import LabelEncoder\n",
        "# importing machine learning models for prediction\n",
        "from sklearn.ensemble import ExtraTreesClassifier\n",
        "from lightgbm import LGBMClassifier\n",
        "from sklearn.linear_model import LogisticRegression\n",
        "from sklearn.preprocessing import MinMaxScaler\n",
        "from sklearn.metrics import classification_report, confusion_matrix\n"
      ],
      "metadata": {
        "id": "R5cvCFF6DyWB"
      },
      "execution_count": null,
      "outputs": []
    },
    {
      "cell_type": "code",
      "source": [
        "model_params = {\n",
        "    \n",
        "    'ada_boost': {\n",
        "        'model': AdaBoostClassifier(),\n",
        "        'params': {\n",
        "             'learning_rate': [0.2],\n",
        "            'n_estimators': [100]\n",
        "         }\n",
        "    },\n",
        "        'XGB_classifier' : {\n",
        "        'model': XGBClassifier(),\n",
        "        'params' : {\n",
        "            'learning_rate': [0.1],\n",
        "            'n_estimators': [1500]\n",
        "         }\n",
        "    },\n",
        "\n",
        "         'LGBM_classifier' : {\n",
        "        'model': LGBMClassifier(),\n",
        "        'params' : {\n",
        "            'learning_rate': [0.3],\n",
        "            'n_estimators': [100],\n",
        "            'max-depth' : [4]\n",
        "         }\n",
        "    }\n",
        "}\n"
      ],
      "metadata": {
        "id": "gbQH8IYP_rra"
      },
      "execution_count": null,
      "outputs": []
    },
    {
      "cell_type": "code",
      "source": [
        "#Splitting data into test and train\n",
        "X_train, X_test, y_train, y_test = train_test_split(X__, transformed, test_size=0.20)"
      ],
      "metadata": {
        "id": "8VPf6CEH__Xy"
      },
      "execution_count": null,
      "outputs": []
    },
    {
      "cell_type": "code",
      "source": [
        "scores = []\n",
        "for model_name, mp in model_params.items():\n",
        "    clf =  GridSearchCV(mp['model'],mp['params'], cv=5, return_train_score=False)\n",
        "    clf.fit(X_train, y_train)\n",
        "    scores.append({\n",
        "        'model': model_name,\n",
        "        'best_score': clf.best_score_,\n",
        "        'best_params': clf.best_params_\n",
        "    })\n",
        "    \n",
        "df_temp = pd.DataFrame(scores,columns=['model','best_score','best_params'])\n",
        "df_temp"
      ],
      "metadata": {
        "colab": {
          "base_uri": "https://localhost:8080/",
          "height": 143
        },
        "id": "YjGhyExtAAdd",
        "outputId": "0f216c47-588a-4abe-9503-dfdaeaf20088"
      },
      "execution_count": null,
      "outputs": [
        {
          "output_type": "execute_result",
          "data": {
            "text/plain": [
              "             model  best_score  \\\n",
              "0        ada_boost    0.998907   \n",
              "1   XGB_classifier    0.999972   \n",
              "2  LGBM_classifier    1.000000   \n",
              "\n",
              "                                         best_params  \n",
              "0        {'learning_rate': 0.2, 'n_estimators': 100}  \n",
              "1       {'learning_rate': 0.1, 'n_estimators': 1500}  \n",
              "2  {'learning_rate': 0.3, 'max-depth': 4, 'n_esti...  "
            ],
            "text/html": [
              "\n",
              "  <div id=\"df-999ebc6a-3715-4968-ab5d-8b4d2b9cb31d\">\n",
              "    <div class=\"colab-df-container\">\n",
              "      <div>\n",
              "<style scoped>\n",
              "    .dataframe tbody tr th:only-of-type {\n",
              "        vertical-align: middle;\n",
              "    }\n",
              "\n",
              "    .dataframe tbody tr th {\n",
              "        vertical-align: top;\n",
              "    }\n",
              "\n",
              "    .dataframe thead th {\n",
              "        text-align: right;\n",
              "    }\n",
              "</style>\n",
              "<table border=\"1\" class=\"dataframe\">\n",
              "  <thead>\n",
              "    <tr style=\"text-align: right;\">\n",
              "      <th></th>\n",
              "      <th>model</th>\n",
              "      <th>best_score</th>\n",
              "      <th>best_params</th>\n",
              "    </tr>\n",
              "  </thead>\n",
              "  <tbody>\n",
              "    <tr>\n",
              "      <th>0</th>\n",
              "      <td>ada_boost</td>\n",
              "      <td>0.998907</td>\n",
              "      <td>{'learning_rate': 0.2, 'n_estimators': 100}</td>\n",
              "    </tr>\n",
              "    <tr>\n",
              "      <th>1</th>\n",
              "      <td>XGB_classifier</td>\n",
              "      <td>0.999972</td>\n",
              "      <td>{'learning_rate': 0.1, 'n_estimators': 1500}</td>\n",
              "    </tr>\n",
              "    <tr>\n",
              "      <th>2</th>\n",
              "      <td>LGBM_classifier</td>\n",
              "      <td>1.000000</td>\n",
              "      <td>{'learning_rate': 0.3, 'max-depth': 4, 'n_esti...</td>\n",
              "    </tr>\n",
              "  </tbody>\n",
              "</table>\n",
              "</div>\n",
              "      <button class=\"colab-df-convert\" onclick=\"convertToInteractive('df-999ebc6a-3715-4968-ab5d-8b4d2b9cb31d')\"\n",
              "              title=\"Convert this dataframe to an interactive table.\"\n",
              "              style=\"display:none;\">\n",
              "        \n",
              "  <svg xmlns=\"http://www.w3.org/2000/svg\" height=\"24px\"viewBox=\"0 0 24 24\"\n",
              "       width=\"24px\">\n",
              "    <path d=\"M0 0h24v24H0V0z\" fill=\"none\"/>\n",
              "    <path d=\"M18.56 5.44l.94 2.06.94-2.06 2.06-.94-2.06-.94-.94-2.06-.94 2.06-2.06.94zm-11 1L8.5 8.5l.94-2.06 2.06-.94-2.06-.94L8.5 2.5l-.94 2.06-2.06.94zm10 10l.94 2.06.94-2.06 2.06-.94-2.06-.94-.94-2.06-.94 2.06-2.06.94z\"/><path d=\"M17.41 7.96l-1.37-1.37c-.4-.4-.92-.59-1.43-.59-.52 0-1.04.2-1.43.59L10.3 9.45l-7.72 7.72c-.78.78-.78 2.05 0 2.83L4 21.41c.39.39.9.59 1.41.59.51 0 1.02-.2 1.41-.59l7.78-7.78 2.81-2.81c.8-.78.8-2.07 0-2.86zM5.41 20L4 18.59l7.72-7.72 1.47 1.35L5.41 20z\"/>\n",
              "  </svg>\n",
              "      </button>\n",
              "      \n",
              "  <style>\n",
              "    .colab-df-container {\n",
              "      display:flex;\n",
              "      flex-wrap:wrap;\n",
              "      gap: 12px;\n",
              "    }\n",
              "\n",
              "    .colab-df-convert {\n",
              "      background-color: #E8F0FE;\n",
              "      border: none;\n",
              "      border-radius: 50%;\n",
              "      cursor: pointer;\n",
              "      display: none;\n",
              "      fill: #1967D2;\n",
              "      height: 32px;\n",
              "      padding: 0 0 0 0;\n",
              "      width: 32px;\n",
              "    }\n",
              "\n",
              "    .colab-df-convert:hover {\n",
              "      background-color: #E2EBFA;\n",
              "      box-shadow: 0px 1px 2px rgba(60, 64, 67, 0.3), 0px 1px 3px 1px rgba(60, 64, 67, 0.15);\n",
              "      fill: #174EA6;\n",
              "    }\n",
              "\n",
              "    [theme=dark] .colab-df-convert {\n",
              "      background-color: #3B4455;\n",
              "      fill: #D2E3FC;\n",
              "    }\n",
              "\n",
              "    [theme=dark] .colab-df-convert:hover {\n",
              "      background-color: #434B5C;\n",
              "      box-shadow: 0px 1px 3px 1px rgba(0, 0, 0, 0.15);\n",
              "      filter: drop-shadow(0px 1px 2px rgba(0, 0, 0, 0.3));\n",
              "      fill: #FFFFFF;\n",
              "    }\n",
              "  </style>\n",
              "\n",
              "      <script>\n",
              "        const buttonEl =\n",
              "          document.querySelector('#df-999ebc6a-3715-4968-ab5d-8b4d2b9cb31d button.colab-df-convert');\n",
              "        buttonEl.style.display =\n",
              "          google.colab.kernel.accessAllowed ? 'block' : 'none';\n",
              "\n",
              "        async function convertToInteractive(key) {\n",
              "          const element = document.querySelector('#df-999ebc6a-3715-4968-ab5d-8b4d2b9cb31d');\n",
              "          const dataTable =\n",
              "            await google.colab.kernel.invokeFunction('convertToInteractive',\n",
              "                                                     [key], {});\n",
              "          if (!dataTable) return;\n",
              "\n",
              "          const docLinkHtml = 'Like what you see? Visit the ' +\n",
              "            '<a target=\"_blank\" href=https://colab.research.google.com/notebooks/data_table.ipynb>data table notebook</a>'\n",
              "            + ' to learn more about interactive tables.';\n",
              "          element.innerHTML = '';\n",
              "          dataTable['output_type'] = 'display_data';\n",
              "          await google.colab.output.renderOutput(dataTable, element);\n",
              "          const docLink = document.createElement('div');\n",
              "          docLink.innerHTML = docLinkHtml;\n",
              "          element.appendChild(docLink);\n",
              "        }\n",
              "      </script>\n",
              "    </div>\n",
              "  </div>\n",
              "  "
            ]
          },
          "metadata": {},
          "execution_count": 14
        }
      ]
    },
    {
      "cell_type": "code",
      "source": [
        "#Default Random Forest model without any tuning - base metric\n",
        "RF_model_default = RandomForestClassifier()\n",
        "RF_model_default.fit(X_train[ :100], y_train[:100])\n",
        "y_pred_RF_default =RF_model_default.predict(X_test)\n",
        "print('Accuracy Score - Random Forest - Default:', metrics.accuracy_score(y_test, y_pred_RF_default))  \n",
        "\n",
        "estimator_RF = RandomForestClassifier()\n",
        "parameters_RF = {\n",
        "    'n_estimators': (50,150,1),                #The number of trees in the forest\n",
        "    'criterion': ('gini', 'entropy'),            #The function to measure the quality of a split\n",
        "    'max_depth': (10,160,1),                     #The maximum depth of the tree\n",
        "    'min_samples_split': (0.000001, 0.00001, 0.0001),   #The minimum number of samples required to split an internal node\n",
        "                }\n",
        "# with GridSearch\n",
        "grid_search_RF = GridSearchCV(\n",
        "    estimator=estimator_RF,\n",
        "    param_grid=parameters_RF,\n",
        "    scoring = 'accuracy',\n",
        "    n_jobs = -1,\n",
        "    cv = 5\n",
        ")\n",
        "\n",
        "RF_1=grid_search_RF.fit(X_train[:1500], y_train[:1500])\n",
        "y_pred_RF1 =RF_1.predict(X_test)\n",
        "\n",
        "\n",
        "print(grid_search_RF.best_params_ ) \n",
        "print(grid_search_RF.best_score_ )"
      ],
      "metadata": {
        "colab": {
          "base_uri": "https://localhost:8080/"
        },
        "id": "m9DcOPZ5Nkk7",
        "outputId": "cb7bba65-d777-45a2-fe9b-019a2d4885d8"
      },
      "execution_count": null,
      "outputs": [
        {
          "output_type": "stream",
          "name": "stdout",
          "text": [
            "Accuracy Score - Random Forest - Default: 0.9971044115142225\n",
            "{'criterion': 'gini', 'max_depth': 10, 'min_samples_split': 1e-06, 'n_estimators': 50}\n",
            "0.998\n"
          ]
        }
      ]
    },
    {
      "cell_type": "code",
      "source": [
        "print(confusion_matrix(y_test,y_pred_RF1))\n",
        "print(classification_report(y_test,y_pred_RF1))"
      ],
      "metadata": {
        "colab": {
          "base_uri": "https://localhost:8080/"
        },
        "id": "qkPZ-BE9f7iG",
        "outputId": "b5bff80b-4902-43dd-cca4-9518ec59bfdc"
      },
      "execution_count": null,
      "outputs": [
        {
          "output_type": "stream",
          "name": "stdout",
          "text": [
            "[[10456     0     0]\n",
            " [    0  7126     0]\n",
            " [    0     0    31]]\n",
            "              precision    recall  f1-score   support\n",
            "\n",
            "           0       1.00      1.00      1.00     10456\n",
            "           1       1.00      1.00      1.00      7126\n",
            "           2       1.00      1.00      1.00        31\n",
            "\n",
            "    accuracy                           1.00     17613\n",
            "   macro avg       1.00      1.00      1.00     17613\n",
            "weighted avg       1.00      1.00      1.00     17613\n",
            "\n"
          ]
        }
      ]
    },
    {
      "cell_type": "code",
      "source": [
        "#Default Bagging model without any tuning - base metric\n",
        "Bag_model_default = BaggingClassifier()\n",
        "Bag_model_default.fit(X_train[:100], y_train[:100])\n",
        "y_pred_Bag_default =Bag_model_default.predict(X_test)\n",
        "print('Accuracy Score - Bagging - Default:', metrics.accuracy_score(y_test, y_pred_Bag_default)) \n",
        "\n",
        "#Parameter tuning with GridSearchCV \n",
        "#################################\n",
        "### Bagging\n",
        "#################################\n",
        "estimator_Bag = BaggingClassifier()\n",
        "parameters_Bag = {\n",
        "    'n_estimators': (200,500,1),                                               \n",
        "    'max_features': (0.1,0.7, 0.01) \n",
        "                }\n",
        "# with GridSearch\n",
        "grid_search_Bag= GridSearchCV(\n",
        "    estimator=estimator_Bag,\n",
        "    param_grid=parameters_Bag,\n",
        "    scoring = 'accuracy',\n",
        "    n_jobs = -1,\n",
        "    cv = 5\n",
        ")\n",
        "\n",
        "Bag_1=grid_search_Bag.fit(X_train[:1500], y_train[:1500])\n",
        "y_pred_Bag1 =Bag_1.predict(X_test)\n",
        "\n",
        "print(grid_search_Bag.best_params_ ) \n",
        "print(grid_search_Bag.best_score_ ) "
      ],
      "metadata": {
        "colab": {
          "base_uri": "https://localhost:8080/"
        },
        "id": "34woWJSGNnjy",
        "outputId": "942e3391-e145-484e-80cf-0b04f5c976b0"
      },
      "execution_count": null,
      "outputs": [
        {
          "output_type": "stream",
          "name": "stdout",
          "text": [
            "Accuracy Score - Bagging - Default: 0.9971044115142225\n",
            "{'max_features': 0.7, 'n_estimators': 200}\n",
            "0.998\n"
          ]
        }
      ]
    },
    {
      "cell_type": "code",
      "source": [
        "print(confusion_matrix(y_test,y_pred_Bag1))\n",
        "print(classification_report(y_test,y_pred_Bag1))"
      ],
      "metadata": {
        "colab": {
          "base_uri": "https://localhost:8080/"
        },
        "id": "sMIK9NF3jKHd",
        "outputId": "2052db9b-2aaf-43f4-b3c4-6e39769a7532"
      },
      "execution_count": null,
      "outputs": [
        {
          "output_type": "stream",
          "name": "stdout",
          "text": [
            "[[10456     0     0]\n",
            " [    0  7126     0]\n",
            " [    0     0    31]]\n",
            "              precision    recall  f1-score   support\n",
            "\n",
            "           0       1.00      1.00      1.00     10456\n",
            "           1       1.00      1.00      1.00      7126\n",
            "           2       1.00      1.00      1.00        31\n",
            "\n",
            "    accuracy                           1.00     17613\n",
            "   macro avg       1.00      1.00      1.00     17613\n",
            "weighted avg       1.00      1.00      1.00     17613\n",
            "\n"
          ]
        }
      ]
    },
    {
      "cell_type": "markdown",
      "source": [
        "## **CNN**"
      ],
      "metadata": {
        "id": "dQbOIEDoa-OO"
      }
    },
    {
      "cell_type": "code",
      "source": [
        "import pandas as pd\n",
        "from numpy import mean\n",
        "from numpy import std\n",
        "from sklearn.datasets import make_multilabel_classification\n",
        "from sklearn.model_selection import RepeatedKFold\n",
        "from keras.models import Sequential\n",
        "from keras.layers import Dense\n",
        "from sklearn.metrics import accuracy_score\n",
        "from sklearn.preprocessing import OneHotEncoder"
      ],
      "metadata": {
        "id": "eG9qUEHpbCXE"
      },
      "execution_count": null,
      "outputs": []
    },
    {
      "cell_type": "code",
      "source": [
        "data_ = pd.read_excel('/content/drive/MyDrive/CECS_551/output.xlsx')\n",
        "data = data_.dropna()"
      ],
      "metadata": {
        "id": "ZYCOCqXFbgG9"
      },
      "execution_count": null,
      "outputs": []
    },
    {
      "cell_type": "code",
      "source": [
        "def get_model(n_inputs, n_outputs):\n",
        "    model = Sequential()\n",
        "    model.add(Dense(20, input_dim=n_inputs, kernel_initializer='he_uniform', activation='relu'))\n",
        "    model.add(Dense(n_outputs, activation='sigmoid'))\n",
        "    model.compile(loss='binary_crossentropy', optimizer='adam')\n",
        "    return model"
      ],
      "metadata": {
        "id": "ISNVHYNzbFmq"
      },
      "execution_count": null,
      "outputs": []
    },
    {
      "cell_type": "code",
      "source": [
        "def evaluate_model(X, y):\n",
        "    results = list()\n",
        "    n_inputs, n_outputs = X.shape[1], y.shape[1]\n",
        "    # define evaluation procedure\n",
        "    cv = RepeatedKFold(n_splits=10, n_repeats=3, random_state=1)\n",
        "    # enumerate folds\n",
        "    for train_ix, test_ix in cv.split(X):\n",
        "        # prepare data\n",
        "        X_train, X_test = X[train_ix], X[test_ix]\n",
        "        y_train, y_test = y[train_ix], y[test_ix]\n",
        "        # define model\n",
        "        model = get_model(n_inputs, n_outputs)\n",
        "        # fit model\n",
        "        model.fit(X_train, y_train, verbose=0, epochs=100)\n",
        "        # make a prediction on the test set\n",
        "        yhat = model.predict(X_test)\n",
        "        # round probabilities to class labels\n",
        "        yhat = yhat.round()\n",
        "        # calculate accuracy\n",
        "        acc = accuracy_score(y_test, yhat)\n",
        "        # store result\n",
        "        print('>%.3f' % acc)\n",
        "        results.append(acc)\n",
        "    return results"
      ],
      "metadata": {
        "id": "G-jow66JbIlS"
      },
      "execution_count": null,
      "outputs": []
    },
    {
      "cell_type": "code",
      "source": [
        "cnn_data = data\n",
        "cnn_data"
      ],
      "metadata": {
        "colab": {
          "base_uri": "https://localhost:8080/",
          "height": 678
        },
        "id": "OtYphLy_bM8y",
        "outputId": "4d5cc0c3-e065-4628-80fc-27eb050393ce"
      },
      "execution_count": null,
      "outputs": [
        {
          "output_type": "execute_result",
          "data": {
            "text/plain": [
              "        Unnamed: 0  Store  Dept       Date  Weekly_Sales  IsHoliday Type  \\\n",
              "0                0      1     1 2010-02-05      24924.50      False    A   \n",
              "1                1      1     1 2010-02-12      46039.49       True    A   \n",
              "2                2      1     1 2010-02-19      41595.55      False    A   \n",
              "5                5      1     1 2010-03-12      21043.39      False    A   \n",
              "6                6      1     1 2010-03-19      22136.64      False    A   \n",
              "...            ...    ...   ...        ...           ...        ...  ...   \n",
              "340268      340268     35    98 2012-06-22         21.52      False    B   \n",
              "340270      340270     35    98 2012-07-06         14.70      False    B   \n",
              "340281      340281     35    98 2012-09-21         44.96      False    B   \n",
              "340282      340282     35    98 2012-09-28         68.48      False    B   \n",
              "340286      340286     35    98 2012-10-26         24.60      False    B   \n",
              "\n",
              "          Size  Temperature  gas_price  discount_promotional  \\\n",
              "0       151315        59.33      3.360               9667.50   \n",
              "1       151315        51.65      3.409               8687.47   \n",
              "2       151315        52.39      3.510               2706.87   \n",
              "5       151315        60.71      3.669               8368.50   \n",
              "6       151315        64.00      3.734               2588.06   \n",
              "...        ...          ...        ...                   ...   \n",
              "340268  103681        73.23      3.564               5984.00   \n",
              "340270  103681        82.08      3.475               7808.90   \n",
              "340281  103681        66.10      4.038               6982.10   \n",
              "340282  103681        64.92      3.997              20867.96   \n",
              "340286  103681        58.99      3.882               6221.06   \n",
              "\n",
              "        discount_clearance  discount_damaged_good  discount_competitive  \\\n",
              "0                   268.29                   0.60               8368.15   \n",
              "1                  1594.87                   2.20               2144.87   \n",
              "2                  3128.74                   1.88               2396.68   \n",
              "5                   298.46                   1.39               1340.29   \n",
              "6                    80.89                   3.20                909.76   \n",
              "...                    ...                    ...                   ...   \n",
              "340268               32.80                   0.57                528.54   \n",
              "340270                7.00                  47.50               6948.28   \n",
              "340281               87.37                   6.00               2085.94   \n",
              "340282               42.64                   3.22               5895.05   \n",
              "340286               42.48                 103.00                273.90   \n",
              "\n",
              "               CPI  Unemployment  \n",
              "0       223.659114         6.833  \n",
              "1       223.753643         6.833  \n",
              "2       223.917015         6.833  \n",
              "5       224.562029         6.833  \n",
              "6       224.716695         6.833  \n",
              "...            ...           ...  \n",
              "340268  142.160646         8.876  \n",
              "340270  142.223430         8.839  \n",
              "340281  142.679817         8.839  \n",
              "340282  142.765750         8.839  \n",
              "340286  142.762411         8.665  \n",
              "\n",
              "[88064 rows x 16 columns]"
            ],
            "text/html": [
              "\n",
              "  <div id=\"df-e9334c7a-bc24-4c77-a36b-7dcf0940001a\">\n",
              "    <div class=\"colab-df-container\">\n",
              "      <div>\n",
              "<style scoped>\n",
              "    .dataframe tbody tr th:only-of-type {\n",
              "        vertical-align: middle;\n",
              "    }\n",
              "\n",
              "    .dataframe tbody tr th {\n",
              "        vertical-align: top;\n",
              "    }\n",
              "\n",
              "    .dataframe thead th {\n",
              "        text-align: right;\n",
              "    }\n",
              "</style>\n",
              "<table border=\"1\" class=\"dataframe\">\n",
              "  <thead>\n",
              "    <tr style=\"text-align: right;\">\n",
              "      <th></th>\n",
              "      <th>Unnamed: 0</th>\n",
              "      <th>Store</th>\n",
              "      <th>Dept</th>\n",
              "      <th>Date</th>\n",
              "      <th>Weekly_Sales</th>\n",
              "      <th>IsHoliday</th>\n",
              "      <th>Type</th>\n",
              "      <th>Size</th>\n",
              "      <th>Temperature</th>\n",
              "      <th>gas_price</th>\n",
              "      <th>discount_promotional</th>\n",
              "      <th>discount_clearance</th>\n",
              "      <th>discount_damaged_good</th>\n",
              "      <th>discount_competitive</th>\n",
              "      <th>CPI</th>\n",
              "      <th>Unemployment</th>\n",
              "    </tr>\n",
              "  </thead>\n",
              "  <tbody>\n",
              "    <tr>\n",
              "      <th>0</th>\n",
              "      <td>0</td>\n",
              "      <td>1</td>\n",
              "      <td>1</td>\n",
              "      <td>2010-02-05</td>\n",
              "      <td>24924.50</td>\n",
              "      <td>False</td>\n",
              "      <td>A</td>\n",
              "      <td>151315</td>\n",
              "      <td>59.33</td>\n",
              "      <td>3.360</td>\n",
              "      <td>9667.50</td>\n",
              "      <td>268.29</td>\n",
              "      <td>0.60</td>\n",
              "      <td>8368.15</td>\n",
              "      <td>223.659114</td>\n",
              "      <td>6.833</td>\n",
              "    </tr>\n",
              "    <tr>\n",
              "      <th>1</th>\n",
              "      <td>1</td>\n",
              "      <td>1</td>\n",
              "      <td>1</td>\n",
              "      <td>2010-02-12</td>\n",
              "      <td>46039.49</td>\n",
              "      <td>True</td>\n",
              "      <td>A</td>\n",
              "      <td>151315</td>\n",
              "      <td>51.65</td>\n",
              "      <td>3.409</td>\n",
              "      <td>8687.47</td>\n",
              "      <td>1594.87</td>\n",
              "      <td>2.20</td>\n",
              "      <td>2144.87</td>\n",
              "      <td>223.753643</td>\n",
              "      <td>6.833</td>\n",
              "    </tr>\n",
              "    <tr>\n",
              "      <th>2</th>\n",
              "      <td>2</td>\n",
              "      <td>1</td>\n",
              "      <td>1</td>\n",
              "      <td>2010-02-19</td>\n",
              "      <td>41595.55</td>\n",
              "      <td>False</td>\n",
              "      <td>A</td>\n",
              "      <td>151315</td>\n",
              "      <td>52.39</td>\n",
              "      <td>3.510</td>\n",
              "      <td>2706.87</td>\n",
              "      <td>3128.74</td>\n",
              "      <td>1.88</td>\n",
              "      <td>2396.68</td>\n",
              "      <td>223.917015</td>\n",
              "      <td>6.833</td>\n",
              "    </tr>\n",
              "    <tr>\n",
              "      <th>5</th>\n",
              "      <td>5</td>\n",
              "      <td>1</td>\n",
              "      <td>1</td>\n",
              "      <td>2010-03-12</td>\n",
              "      <td>21043.39</td>\n",
              "      <td>False</td>\n",
              "      <td>A</td>\n",
              "      <td>151315</td>\n",
              "      <td>60.71</td>\n",
              "      <td>3.669</td>\n",
              "      <td>8368.50</td>\n",
              "      <td>298.46</td>\n",
              "      <td>1.39</td>\n",
              "      <td>1340.29</td>\n",
              "      <td>224.562029</td>\n",
              "      <td>6.833</td>\n",
              "    </tr>\n",
              "    <tr>\n",
              "      <th>6</th>\n",
              "      <td>6</td>\n",
              "      <td>1</td>\n",
              "      <td>1</td>\n",
              "      <td>2010-03-19</td>\n",
              "      <td>22136.64</td>\n",
              "      <td>False</td>\n",
              "      <td>A</td>\n",
              "      <td>151315</td>\n",
              "      <td>64.00</td>\n",
              "      <td>3.734</td>\n",
              "      <td>2588.06</td>\n",
              "      <td>80.89</td>\n",
              "      <td>3.20</td>\n",
              "      <td>909.76</td>\n",
              "      <td>224.716695</td>\n",
              "      <td>6.833</td>\n",
              "    </tr>\n",
              "    <tr>\n",
              "      <th>...</th>\n",
              "      <td>...</td>\n",
              "      <td>...</td>\n",
              "      <td>...</td>\n",
              "      <td>...</td>\n",
              "      <td>...</td>\n",
              "      <td>...</td>\n",
              "      <td>...</td>\n",
              "      <td>...</td>\n",
              "      <td>...</td>\n",
              "      <td>...</td>\n",
              "      <td>...</td>\n",
              "      <td>...</td>\n",
              "      <td>...</td>\n",
              "      <td>...</td>\n",
              "      <td>...</td>\n",
              "      <td>...</td>\n",
              "    </tr>\n",
              "    <tr>\n",
              "      <th>340268</th>\n",
              "      <td>340268</td>\n",
              "      <td>35</td>\n",
              "      <td>98</td>\n",
              "      <td>2012-06-22</td>\n",
              "      <td>21.52</td>\n",
              "      <td>False</td>\n",
              "      <td>B</td>\n",
              "      <td>103681</td>\n",
              "      <td>73.23</td>\n",
              "      <td>3.564</td>\n",
              "      <td>5984.00</td>\n",
              "      <td>32.80</td>\n",
              "      <td>0.57</td>\n",
              "      <td>528.54</td>\n",
              "      <td>142.160646</td>\n",
              "      <td>8.876</td>\n",
              "    </tr>\n",
              "    <tr>\n",
              "      <th>340270</th>\n",
              "      <td>340270</td>\n",
              "      <td>35</td>\n",
              "      <td>98</td>\n",
              "      <td>2012-07-06</td>\n",
              "      <td>14.70</td>\n",
              "      <td>False</td>\n",
              "      <td>B</td>\n",
              "      <td>103681</td>\n",
              "      <td>82.08</td>\n",
              "      <td>3.475</td>\n",
              "      <td>7808.90</td>\n",
              "      <td>7.00</td>\n",
              "      <td>47.50</td>\n",
              "      <td>6948.28</td>\n",
              "      <td>142.223430</td>\n",
              "      <td>8.839</td>\n",
              "    </tr>\n",
              "    <tr>\n",
              "      <th>340281</th>\n",
              "      <td>340281</td>\n",
              "      <td>35</td>\n",
              "      <td>98</td>\n",
              "      <td>2012-09-21</td>\n",
              "      <td>44.96</td>\n",
              "      <td>False</td>\n",
              "      <td>B</td>\n",
              "      <td>103681</td>\n",
              "      <td>66.10</td>\n",
              "      <td>4.038</td>\n",
              "      <td>6982.10</td>\n",
              "      <td>87.37</td>\n",
              "      <td>6.00</td>\n",
              "      <td>2085.94</td>\n",
              "      <td>142.679817</td>\n",
              "      <td>8.839</td>\n",
              "    </tr>\n",
              "    <tr>\n",
              "      <th>340282</th>\n",
              "      <td>340282</td>\n",
              "      <td>35</td>\n",
              "      <td>98</td>\n",
              "      <td>2012-09-28</td>\n",
              "      <td>68.48</td>\n",
              "      <td>False</td>\n",
              "      <td>B</td>\n",
              "      <td>103681</td>\n",
              "      <td>64.92</td>\n",
              "      <td>3.997</td>\n",
              "      <td>20867.96</td>\n",
              "      <td>42.64</td>\n",
              "      <td>3.22</td>\n",
              "      <td>5895.05</td>\n",
              "      <td>142.765750</td>\n",
              "      <td>8.839</td>\n",
              "    </tr>\n",
              "    <tr>\n",
              "      <th>340286</th>\n",
              "      <td>340286</td>\n",
              "      <td>35</td>\n",
              "      <td>98</td>\n",
              "      <td>2012-10-26</td>\n",
              "      <td>24.60</td>\n",
              "      <td>False</td>\n",
              "      <td>B</td>\n",
              "      <td>103681</td>\n",
              "      <td>58.99</td>\n",
              "      <td>3.882</td>\n",
              "      <td>6221.06</td>\n",
              "      <td>42.48</td>\n",
              "      <td>103.00</td>\n",
              "      <td>273.90</td>\n",
              "      <td>142.762411</td>\n",
              "      <td>8.665</td>\n",
              "    </tr>\n",
              "  </tbody>\n",
              "</table>\n",
              "<p>88064 rows × 16 columns</p>\n",
              "</div>\n",
              "      <button class=\"colab-df-convert\" onclick=\"convertToInteractive('df-e9334c7a-bc24-4c77-a36b-7dcf0940001a')\"\n",
              "              title=\"Convert this dataframe to an interactive table.\"\n",
              "              style=\"display:none;\">\n",
              "        \n",
              "  <svg xmlns=\"http://www.w3.org/2000/svg\" height=\"24px\"viewBox=\"0 0 24 24\"\n",
              "       width=\"24px\">\n",
              "    <path d=\"M0 0h24v24H0V0z\" fill=\"none\"/>\n",
              "    <path d=\"M18.56 5.44l.94 2.06.94-2.06 2.06-.94-2.06-.94-.94-2.06-.94 2.06-2.06.94zm-11 1L8.5 8.5l.94-2.06 2.06-.94-2.06-.94L8.5 2.5l-.94 2.06-2.06.94zm10 10l.94 2.06.94-2.06 2.06-.94-2.06-.94-.94-2.06-.94 2.06-2.06.94z\"/><path d=\"M17.41 7.96l-1.37-1.37c-.4-.4-.92-.59-1.43-.59-.52 0-1.04.2-1.43.59L10.3 9.45l-7.72 7.72c-.78.78-.78 2.05 0 2.83L4 21.41c.39.39.9.59 1.41.59.51 0 1.02-.2 1.41-.59l7.78-7.78 2.81-2.81c.8-.78.8-2.07 0-2.86zM5.41 20L4 18.59l7.72-7.72 1.47 1.35L5.41 20z\"/>\n",
              "  </svg>\n",
              "      </button>\n",
              "      \n",
              "  <style>\n",
              "    .colab-df-container {\n",
              "      display:flex;\n",
              "      flex-wrap:wrap;\n",
              "      gap: 12px;\n",
              "    }\n",
              "\n",
              "    .colab-df-convert {\n",
              "      background-color: #E8F0FE;\n",
              "      border: none;\n",
              "      border-radius: 50%;\n",
              "      cursor: pointer;\n",
              "      display: none;\n",
              "      fill: #1967D2;\n",
              "      height: 32px;\n",
              "      padding: 0 0 0 0;\n",
              "      width: 32px;\n",
              "    }\n",
              "\n",
              "    .colab-df-convert:hover {\n",
              "      background-color: #E2EBFA;\n",
              "      box-shadow: 0px 1px 2px rgba(60, 64, 67, 0.3), 0px 1px 3px 1px rgba(60, 64, 67, 0.15);\n",
              "      fill: #174EA6;\n",
              "    }\n",
              "\n",
              "    [theme=dark] .colab-df-convert {\n",
              "      background-color: #3B4455;\n",
              "      fill: #D2E3FC;\n",
              "    }\n",
              "\n",
              "    [theme=dark] .colab-df-convert:hover {\n",
              "      background-color: #434B5C;\n",
              "      box-shadow: 0px 1px 3px 1px rgba(0, 0, 0, 0.15);\n",
              "      filter: drop-shadow(0px 1px 2px rgba(0, 0, 0, 0.3));\n",
              "      fill: #FFFFFF;\n",
              "    }\n",
              "  </style>\n",
              "\n",
              "      <script>\n",
              "        const buttonEl =\n",
              "          document.querySelector('#df-e9334c7a-bc24-4c77-a36b-7dcf0940001a button.colab-df-convert');\n",
              "        buttonEl.style.display =\n",
              "          google.colab.kernel.accessAllowed ? 'block' : 'none';\n",
              "\n",
              "        async function convertToInteractive(key) {\n",
              "          const element = document.querySelector('#df-e9334c7a-bc24-4c77-a36b-7dcf0940001a');\n",
              "          const dataTable =\n",
              "            await google.colab.kernel.invokeFunction('convertToInteractive',\n",
              "                                                     [key], {});\n",
              "          if (!dataTable) return;\n",
              "\n",
              "          const docLinkHtml = 'Like what you see? Visit the ' +\n",
              "            '<a target=\"_blank\" href=https://colab.research.google.com/notebooks/data_table.ipynb>data table notebook</a>'\n",
              "            + ' to learn more about interactive tables.';\n",
              "          element.innerHTML = '';\n",
              "          dataTable['output_type'] = 'display_data';\n",
              "          await google.colab.output.renderOutput(dataTable, element);\n",
              "          const docLink = document.createElement('div');\n",
              "          docLink.innerHTML = docLinkHtml;\n",
              "          element.appendChild(docLink);\n",
              "        }\n",
              "      </script>\n",
              "    </div>\n",
              "  </div>\n",
              "  "
            ]
          },
          "metadata": {},
          "execution_count": 24
        }
      ]
    },
    {
      "cell_type": "code",
      "source": [
        "cnn_data = cnn_data.head(60000)\n",
        "cnn_data"
      ],
      "metadata": {
        "colab": {
          "base_uri": "https://localhost:8080/",
          "height": 678
        },
        "id": "AbzFpG5XbOEo",
        "outputId": "be26cdcf-0b6f-4355-922a-5405b5d39d20"
      },
      "execution_count": null,
      "outputs": [
        {
          "output_type": "execute_result",
          "data": {
            "text/plain": [
              "        Unnamed: 0  Store  Dept       Date  Weekly_Sales  IsHoliday Type  \\\n",
              "0                0      1     1 2010-02-05      24924.50      False    A   \n",
              "1                1      1     1 2010-02-12      46039.49       True    A   \n",
              "2                2      1     1 2010-02-19      41595.55      False    A   \n",
              "5                5      1     1 2010-03-12      21043.39      False    A   \n",
              "6                6      1     1 2010-03-19      22136.64      False    A   \n",
              "...            ...    ...   ...        ...           ...        ...  ...   \n",
              "223253      223253     23    52 2012-04-20       1762.75      False    B   \n",
              "223254      223254     23    52 2012-04-27       2345.98      False    B   \n",
              "223259      223259     23    52 2012-06-01       2876.94      False    B   \n",
              "223260      223260     23    52 2012-06-08       2285.47      False    B   \n",
              "223261      223261     23    52 2012-06-15       2061.98      False    B   \n",
              "\n",
              "          Size  Temperature  gas_price  discount_promotional  \\\n",
              "0       151315        59.33      3.360               9667.50   \n",
              "1       151315        51.65      3.409               8687.47   \n",
              "2       151315        52.39      3.510               2706.87   \n",
              "5       151315        60.71      3.669               8368.50   \n",
              "6       151315        64.00      3.734               2588.06   \n",
              "...        ...          ...        ...                   ...   \n",
              "223253  114533        56.55      4.046               2438.53   \n",
              "223254  114533        44.62      4.023               2622.72   \n",
              "223259  114533        66.22      3.798               4238.85   \n",
              "223260  114533        56.82      3.746               7565.40   \n",
              "223261  114533        64.73      3.683               4810.62   \n",
              "\n",
              "        discount_clearance  discount_damaged_good  discount_competitive  \\\n",
              "0                   268.29                   0.60               8368.15   \n",
              "1                  1594.87                   2.20               2144.87   \n",
              "2                  3128.74                   1.88               2396.68   \n",
              "5                   298.46                   1.39               1340.29   \n",
              "6                    80.89                   3.20                909.76   \n",
              "...                    ...                    ...                   ...   \n",
              "223253             6551.03                  30.84                502.31   \n",
              "223254             1325.48                  27.04                  2.00   \n",
              "223259               92.20                  61.64               1401.23   \n",
              "223260              503.40                 220.02               2581.42   \n",
              "223261              442.30                  41.03               1361.60   \n",
              "\n",
              "               CPI  Unemployment  \n",
              "0       223.659114         6.833  \n",
              "1       223.753643         6.833  \n",
              "2       223.917015         6.833  \n",
              "5       224.562029         6.833  \n",
              "6       224.716695         6.833  \n",
              "...            ...           ...  \n",
              "223253  137.923067         4.125  \n",
              "223254  137.978133         4.125  \n",
              "223259  138.113807         4.125  \n",
              "223260  138.117419         4.125  \n",
              "223261  138.129533         4.125  \n",
              "\n",
              "[60000 rows x 16 columns]"
            ],
            "text/html": [
              "\n",
              "  <div id=\"df-4b3492b7-af96-419e-9a87-1fd3caa8a56c\">\n",
              "    <div class=\"colab-df-container\">\n",
              "      <div>\n",
              "<style scoped>\n",
              "    .dataframe tbody tr th:only-of-type {\n",
              "        vertical-align: middle;\n",
              "    }\n",
              "\n",
              "    .dataframe tbody tr th {\n",
              "        vertical-align: top;\n",
              "    }\n",
              "\n",
              "    .dataframe thead th {\n",
              "        text-align: right;\n",
              "    }\n",
              "</style>\n",
              "<table border=\"1\" class=\"dataframe\">\n",
              "  <thead>\n",
              "    <tr style=\"text-align: right;\">\n",
              "      <th></th>\n",
              "      <th>Unnamed: 0</th>\n",
              "      <th>Store</th>\n",
              "      <th>Dept</th>\n",
              "      <th>Date</th>\n",
              "      <th>Weekly_Sales</th>\n",
              "      <th>IsHoliday</th>\n",
              "      <th>Type</th>\n",
              "      <th>Size</th>\n",
              "      <th>Temperature</th>\n",
              "      <th>gas_price</th>\n",
              "      <th>discount_promotional</th>\n",
              "      <th>discount_clearance</th>\n",
              "      <th>discount_damaged_good</th>\n",
              "      <th>discount_competitive</th>\n",
              "      <th>CPI</th>\n",
              "      <th>Unemployment</th>\n",
              "    </tr>\n",
              "  </thead>\n",
              "  <tbody>\n",
              "    <tr>\n",
              "      <th>0</th>\n",
              "      <td>0</td>\n",
              "      <td>1</td>\n",
              "      <td>1</td>\n",
              "      <td>2010-02-05</td>\n",
              "      <td>24924.50</td>\n",
              "      <td>False</td>\n",
              "      <td>A</td>\n",
              "      <td>151315</td>\n",
              "      <td>59.33</td>\n",
              "      <td>3.360</td>\n",
              "      <td>9667.50</td>\n",
              "      <td>268.29</td>\n",
              "      <td>0.60</td>\n",
              "      <td>8368.15</td>\n",
              "      <td>223.659114</td>\n",
              "      <td>6.833</td>\n",
              "    </tr>\n",
              "    <tr>\n",
              "      <th>1</th>\n",
              "      <td>1</td>\n",
              "      <td>1</td>\n",
              "      <td>1</td>\n",
              "      <td>2010-02-12</td>\n",
              "      <td>46039.49</td>\n",
              "      <td>True</td>\n",
              "      <td>A</td>\n",
              "      <td>151315</td>\n",
              "      <td>51.65</td>\n",
              "      <td>3.409</td>\n",
              "      <td>8687.47</td>\n",
              "      <td>1594.87</td>\n",
              "      <td>2.20</td>\n",
              "      <td>2144.87</td>\n",
              "      <td>223.753643</td>\n",
              "      <td>6.833</td>\n",
              "    </tr>\n",
              "    <tr>\n",
              "      <th>2</th>\n",
              "      <td>2</td>\n",
              "      <td>1</td>\n",
              "      <td>1</td>\n",
              "      <td>2010-02-19</td>\n",
              "      <td>41595.55</td>\n",
              "      <td>False</td>\n",
              "      <td>A</td>\n",
              "      <td>151315</td>\n",
              "      <td>52.39</td>\n",
              "      <td>3.510</td>\n",
              "      <td>2706.87</td>\n",
              "      <td>3128.74</td>\n",
              "      <td>1.88</td>\n",
              "      <td>2396.68</td>\n",
              "      <td>223.917015</td>\n",
              "      <td>6.833</td>\n",
              "    </tr>\n",
              "    <tr>\n",
              "      <th>5</th>\n",
              "      <td>5</td>\n",
              "      <td>1</td>\n",
              "      <td>1</td>\n",
              "      <td>2010-03-12</td>\n",
              "      <td>21043.39</td>\n",
              "      <td>False</td>\n",
              "      <td>A</td>\n",
              "      <td>151315</td>\n",
              "      <td>60.71</td>\n",
              "      <td>3.669</td>\n",
              "      <td>8368.50</td>\n",
              "      <td>298.46</td>\n",
              "      <td>1.39</td>\n",
              "      <td>1340.29</td>\n",
              "      <td>224.562029</td>\n",
              "      <td>6.833</td>\n",
              "    </tr>\n",
              "    <tr>\n",
              "      <th>6</th>\n",
              "      <td>6</td>\n",
              "      <td>1</td>\n",
              "      <td>1</td>\n",
              "      <td>2010-03-19</td>\n",
              "      <td>22136.64</td>\n",
              "      <td>False</td>\n",
              "      <td>A</td>\n",
              "      <td>151315</td>\n",
              "      <td>64.00</td>\n",
              "      <td>3.734</td>\n",
              "      <td>2588.06</td>\n",
              "      <td>80.89</td>\n",
              "      <td>3.20</td>\n",
              "      <td>909.76</td>\n",
              "      <td>224.716695</td>\n",
              "      <td>6.833</td>\n",
              "    </tr>\n",
              "    <tr>\n",
              "      <th>...</th>\n",
              "      <td>...</td>\n",
              "      <td>...</td>\n",
              "      <td>...</td>\n",
              "      <td>...</td>\n",
              "      <td>...</td>\n",
              "      <td>...</td>\n",
              "      <td>...</td>\n",
              "      <td>...</td>\n",
              "      <td>...</td>\n",
              "      <td>...</td>\n",
              "      <td>...</td>\n",
              "      <td>...</td>\n",
              "      <td>...</td>\n",
              "      <td>...</td>\n",
              "      <td>...</td>\n",
              "      <td>...</td>\n",
              "    </tr>\n",
              "    <tr>\n",
              "      <th>223253</th>\n",
              "      <td>223253</td>\n",
              "      <td>23</td>\n",
              "      <td>52</td>\n",
              "      <td>2012-04-20</td>\n",
              "      <td>1762.75</td>\n",
              "      <td>False</td>\n",
              "      <td>B</td>\n",
              "      <td>114533</td>\n",
              "      <td>56.55</td>\n",
              "      <td>4.046</td>\n",
              "      <td>2438.53</td>\n",
              "      <td>6551.03</td>\n",
              "      <td>30.84</td>\n",
              "      <td>502.31</td>\n",
              "      <td>137.923067</td>\n",
              "      <td>4.125</td>\n",
              "    </tr>\n",
              "    <tr>\n",
              "      <th>223254</th>\n",
              "      <td>223254</td>\n",
              "      <td>23</td>\n",
              "      <td>52</td>\n",
              "      <td>2012-04-27</td>\n",
              "      <td>2345.98</td>\n",
              "      <td>False</td>\n",
              "      <td>B</td>\n",
              "      <td>114533</td>\n",
              "      <td>44.62</td>\n",
              "      <td>4.023</td>\n",
              "      <td>2622.72</td>\n",
              "      <td>1325.48</td>\n",
              "      <td>27.04</td>\n",
              "      <td>2.00</td>\n",
              "      <td>137.978133</td>\n",
              "      <td>4.125</td>\n",
              "    </tr>\n",
              "    <tr>\n",
              "      <th>223259</th>\n",
              "      <td>223259</td>\n",
              "      <td>23</td>\n",
              "      <td>52</td>\n",
              "      <td>2012-06-01</td>\n",
              "      <td>2876.94</td>\n",
              "      <td>False</td>\n",
              "      <td>B</td>\n",
              "      <td>114533</td>\n",
              "      <td>66.22</td>\n",
              "      <td>3.798</td>\n",
              "      <td>4238.85</td>\n",
              "      <td>92.20</td>\n",
              "      <td>61.64</td>\n",
              "      <td>1401.23</td>\n",
              "      <td>138.113807</td>\n",
              "      <td>4.125</td>\n",
              "    </tr>\n",
              "    <tr>\n",
              "      <th>223260</th>\n",
              "      <td>223260</td>\n",
              "      <td>23</td>\n",
              "      <td>52</td>\n",
              "      <td>2012-06-08</td>\n",
              "      <td>2285.47</td>\n",
              "      <td>False</td>\n",
              "      <td>B</td>\n",
              "      <td>114533</td>\n",
              "      <td>56.82</td>\n",
              "      <td>3.746</td>\n",
              "      <td>7565.40</td>\n",
              "      <td>503.40</td>\n",
              "      <td>220.02</td>\n",
              "      <td>2581.42</td>\n",
              "      <td>138.117419</td>\n",
              "      <td>4.125</td>\n",
              "    </tr>\n",
              "    <tr>\n",
              "      <th>223261</th>\n",
              "      <td>223261</td>\n",
              "      <td>23</td>\n",
              "      <td>52</td>\n",
              "      <td>2012-06-15</td>\n",
              "      <td>2061.98</td>\n",
              "      <td>False</td>\n",
              "      <td>B</td>\n",
              "      <td>114533</td>\n",
              "      <td>64.73</td>\n",
              "      <td>3.683</td>\n",
              "      <td>4810.62</td>\n",
              "      <td>442.30</td>\n",
              "      <td>41.03</td>\n",
              "      <td>1361.60</td>\n",
              "      <td>138.129533</td>\n",
              "      <td>4.125</td>\n",
              "    </tr>\n",
              "  </tbody>\n",
              "</table>\n",
              "<p>60000 rows × 16 columns</p>\n",
              "</div>\n",
              "      <button class=\"colab-df-convert\" onclick=\"convertToInteractive('df-4b3492b7-af96-419e-9a87-1fd3caa8a56c')\"\n",
              "              title=\"Convert this dataframe to an interactive table.\"\n",
              "              style=\"display:none;\">\n",
              "        \n",
              "  <svg xmlns=\"http://www.w3.org/2000/svg\" height=\"24px\"viewBox=\"0 0 24 24\"\n",
              "       width=\"24px\">\n",
              "    <path d=\"M0 0h24v24H0V0z\" fill=\"none\"/>\n",
              "    <path d=\"M18.56 5.44l.94 2.06.94-2.06 2.06-.94-2.06-.94-.94-2.06-.94 2.06-2.06.94zm-11 1L8.5 8.5l.94-2.06 2.06-.94-2.06-.94L8.5 2.5l-.94 2.06-2.06.94zm10 10l.94 2.06.94-2.06 2.06-.94-2.06-.94-.94-2.06-.94 2.06-2.06.94z\"/><path d=\"M17.41 7.96l-1.37-1.37c-.4-.4-.92-.59-1.43-.59-.52 0-1.04.2-1.43.59L10.3 9.45l-7.72 7.72c-.78.78-.78 2.05 0 2.83L4 21.41c.39.39.9.59 1.41.59.51 0 1.02-.2 1.41-.59l7.78-7.78 2.81-2.81c.8-.78.8-2.07 0-2.86zM5.41 20L4 18.59l7.72-7.72 1.47 1.35L5.41 20z\"/>\n",
              "  </svg>\n",
              "      </button>\n",
              "      \n",
              "  <style>\n",
              "    .colab-df-container {\n",
              "      display:flex;\n",
              "      flex-wrap:wrap;\n",
              "      gap: 12px;\n",
              "    }\n",
              "\n",
              "    .colab-df-convert {\n",
              "      background-color: #E8F0FE;\n",
              "      border: none;\n",
              "      border-radius: 50%;\n",
              "      cursor: pointer;\n",
              "      display: none;\n",
              "      fill: #1967D2;\n",
              "      height: 32px;\n",
              "      padding: 0 0 0 0;\n",
              "      width: 32px;\n",
              "    }\n",
              "\n",
              "    .colab-df-convert:hover {\n",
              "      background-color: #E2EBFA;\n",
              "      box-shadow: 0px 1px 2px rgba(60, 64, 67, 0.3), 0px 1px 3px 1px rgba(60, 64, 67, 0.15);\n",
              "      fill: #174EA6;\n",
              "    }\n",
              "\n",
              "    [theme=dark] .colab-df-convert {\n",
              "      background-color: #3B4455;\n",
              "      fill: #D2E3FC;\n",
              "    }\n",
              "\n",
              "    [theme=dark] .colab-df-convert:hover {\n",
              "      background-color: #434B5C;\n",
              "      box-shadow: 0px 1px 3px 1px rgba(0, 0, 0, 0.15);\n",
              "      filter: drop-shadow(0px 1px 2px rgba(0, 0, 0, 0.3));\n",
              "      fill: #FFFFFF;\n",
              "    }\n",
              "  </style>\n",
              "\n",
              "      <script>\n",
              "        const buttonEl =\n",
              "          document.querySelector('#df-4b3492b7-af96-419e-9a87-1fd3caa8a56c button.colab-df-convert');\n",
              "        buttonEl.style.display =\n",
              "          google.colab.kernel.accessAllowed ? 'block' : 'none';\n",
              "\n",
              "        async function convertToInteractive(key) {\n",
              "          const element = document.querySelector('#df-4b3492b7-af96-419e-9a87-1fd3caa8a56c');\n",
              "          const dataTable =\n",
              "            await google.colab.kernel.invokeFunction('convertToInteractive',\n",
              "                                                     [key], {});\n",
              "          if (!dataTable) return;\n",
              "\n",
              "          const docLinkHtml = 'Like what you see? Visit the ' +\n",
              "            '<a target=\"_blank\" href=https://colab.research.google.com/notebooks/data_table.ipynb>data table notebook</a>'\n",
              "            + ' to learn more about interactive tables.';\n",
              "          element.innerHTML = '';\n",
              "          dataTable['output_type'] = 'display_data';\n",
              "          await google.colab.output.renderOutput(dataTable, element);\n",
              "          const docLink = document.createElement('div');\n",
              "          docLink.innerHTML = docLinkHtml;\n",
              "          element.appendChild(docLink);\n",
              "        }\n",
              "      </script>\n",
              "    </div>\n",
              "  </div>\n",
              "  "
            ]
          },
          "metadata": {},
          "execution_count": 25
        }
      ]
    },
    {
      "cell_type": "code",
      "source": [
        "cnn_data = cnn_data.sample(frac=1).reset_index(drop=True)"
      ],
      "metadata": {
        "id": "IOI9zZYobRiu"
      },
      "execution_count": null,
      "outputs": []
    },
    {
      "cell_type": "code",
      "source": [
        "cnn_data = cnn_data.head(2000)\n",
        "cnn_data"
      ],
      "metadata": {
        "colab": {
          "base_uri": "https://localhost:8080/",
          "height": 678
        },
        "id": "XFfDgAApbUaL",
        "outputId": "68b32d61-a4a5-466b-e2be-91e2b6caf34a"
      },
      "execution_count": null,
      "outputs": [
        {
          "output_type": "execute_result",
          "data": {
            "text/plain": [
              "      Unnamed: 0  Store  Dept       Date  Weekly_Sales  IsHoliday Type  \\\n",
              "0          40070      5     2 2012-09-21      12396.17      False    B   \n",
              "1         191675     20    32 2012-07-13      11977.82      False    A   \n",
              "2         167038     17    96 2012-06-08        894.83      False    B   \n",
              "3           7467      1    67 2012-02-17      21228.22      False    A   \n",
              "4          22583      3    16 2011-12-30       2113.08       True    B   \n",
              "...          ...    ...   ...        ...           ...        ...  ...   \n",
              "1995       74860      8    49 2011-11-18       1336.37      False    A   \n",
              "1996        3082      1    23 2012-03-09      21179.12      False    A   \n",
              "1997      105372     11    72 2012-02-03      91359.15      False    A   \n",
              "1998       33039      4    26 2012-03-02      19089.00      False    A   \n",
              "1999       35040      4    41 2012-02-17        478.00      False    A   \n",
              "\n",
              "        Size  Temperature  gas_price  discount_promotional  \\\n",
              "0      34875        71.09      3.721               3033.26   \n",
              "1     203742        78.27      3.523               8679.19   \n",
              "2      93188        60.51      3.776               6233.58   \n",
              "3     151315        45.32      3.510               9873.33   \n",
              "4      37392        48.29      3.129               1449.16   \n",
              "...      ...          ...        ...                   ...   \n",
              "1995  155078        51.72      3.308               6839.45   \n",
              "1996  151315        58.76      3.669              10331.04   \n",
              "1997  207499        60.24      3.360              50909.18   \n",
              "1998  205863        50.38      3.619              18564.88   \n",
              "1999  205863        34.19      3.493              14225.99   \n",
              "\n",
              "      discount_clearance  discount_damaged_good  discount_competitive  \\\n",
              "0                   5.73                   1.10                 83.82   \n",
              "1                  99.70                  22.34               4960.49   \n",
              "2                 140.20                 328.34                763.88   \n",
              "3               11062.27                   9.80               8409.31   \n",
              "4               14356.07                  66.66                 81.43   \n",
              "...                  ...                    ...                   ...   \n",
              "1995              114.32                 166.32                868.79   \n",
              "1996              151.88                   6.00                671.43   \n",
              "1997             1957.49                 137.23              37091.67   \n",
              "1998             1394.86                  32.93              10714.60   \n",
              "1999            11049.65                  17.36              11912.49   \n",
              "\n",
              "             CPI  Unemployment  \n",
              "0     223.373759         5.603  \n",
              "1     214.728027         7.280  \n",
              "2     130.889677         6.235  \n",
              "3     220.425759         8.099  \n",
              "4     223.009084         7.197  \n",
              "...          ...           ...  \n",
              "1995  221.691174         6.123  \n",
              "1996  221.059189         8.163  \n",
              "1997  223.659114         6.833  \n",
              "1998  130.645793         4.607  \n",
              "1999  130.454621         4.607  \n",
              "\n",
              "[2000 rows x 16 columns]"
            ],
            "text/html": [
              "\n",
              "  <div id=\"df-cf865fb3-35a1-46c9-aceb-cb3491e3995d\">\n",
              "    <div class=\"colab-df-container\">\n",
              "      <div>\n",
              "<style scoped>\n",
              "    .dataframe tbody tr th:only-of-type {\n",
              "        vertical-align: middle;\n",
              "    }\n",
              "\n",
              "    .dataframe tbody tr th {\n",
              "        vertical-align: top;\n",
              "    }\n",
              "\n",
              "    .dataframe thead th {\n",
              "        text-align: right;\n",
              "    }\n",
              "</style>\n",
              "<table border=\"1\" class=\"dataframe\">\n",
              "  <thead>\n",
              "    <tr style=\"text-align: right;\">\n",
              "      <th></th>\n",
              "      <th>Unnamed: 0</th>\n",
              "      <th>Store</th>\n",
              "      <th>Dept</th>\n",
              "      <th>Date</th>\n",
              "      <th>Weekly_Sales</th>\n",
              "      <th>IsHoliday</th>\n",
              "      <th>Type</th>\n",
              "      <th>Size</th>\n",
              "      <th>Temperature</th>\n",
              "      <th>gas_price</th>\n",
              "      <th>discount_promotional</th>\n",
              "      <th>discount_clearance</th>\n",
              "      <th>discount_damaged_good</th>\n",
              "      <th>discount_competitive</th>\n",
              "      <th>CPI</th>\n",
              "      <th>Unemployment</th>\n",
              "    </tr>\n",
              "  </thead>\n",
              "  <tbody>\n",
              "    <tr>\n",
              "      <th>0</th>\n",
              "      <td>40070</td>\n",
              "      <td>5</td>\n",
              "      <td>2</td>\n",
              "      <td>2012-09-21</td>\n",
              "      <td>12396.17</td>\n",
              "      <td>False</td>\n",
              "      <td>B</td>\n",
              "      <td>34875</td>\n",
              "      <td>71.09</td>\n",
              "      <td>3.721</td>\n",
              "      <td>3033.26</td>\n",
              "      <td>5.73</td>\n",
              "      <td>1.10</td>\n",
              "      <td>83.82</td>\n",
              "      <td>223.373759</td>\n",
              "      <td>5.603</td>\n",
              "    </tr>\n",
              "    <tr>\n",
              "      <th>1</th>\n",
              "      <td>191675</td>\n",
              "      <td>20</td>\n",
              "      <td>32</td>\n",
              "      <td>2012-07-13</td>\n",
              "      <td>11977.82</td>\n",
              "      <td>False</td>\n",
              "      <td>A</td>\n",
              "      <td>203742</td>\n",
              "      <td>78.27</td>\n",
              "      <td>3.523</td>\n",
              "      <td>8679.19</td>\n",
              "      <td>99.70</td>\n",
              "      <td>22.34</td>\n",
              "      <td>4960.49</td>\n",
              "      <td>214.728027</td>\n",
              "      <td>7.280</td>\n",
              "    </tr>\n",
              "    <tr>\n",
              "      <th>2</th>\n",
              "      <td>167038</td>\n",
              "      <td>17</td>\n",
              "      <td>96</td>\n",
              "      <td>2012-06-08</td>\n",
              "      <td>894.83</td>\n",
              "      <td>False</td>\n",
              "      <td>B</td>\n",
              "      <td>93188</td>\n",
              "      <td>60.51</td>\n",
              "      <td>3.776</td>\n",
              "      <td>6233.58</td>\n",
              "      <td>140.20</td>\n",
              "      <td>328.34</td>\n",
              "      <td>763.88</td>\n",
              "      <td>130.889677</td>\n",
              "      <td>6.235</td>\n",
              "    </tr>\n",
              "    <tr>\n",
              "      <th>3</th>\n",
              "      <td>7467</td>\n",
              "      <td>1</td>\n",
              "      <td>67</td>\n",
              "      <td>2012-02-17</td>\n",
              "      <td>21228.22</td>\n",
              "      <td>False</td>\n",
              "      <td>A</td>\n",
              "      <td>151315</td>\n",
              "      <td>45.32</td>\n",
              "      <td>3.510</td>\n",
              "      <td>9873.33</td>\n",
              "      <td>11062.27</td>\n",
              "      <td>9.80</td>\n",
              "      <td>8409.31</td>\n",
              "      <td>220.425759</td>\n",
              "      <td>8.099</td>\n",
              "    </tr>\n",
              "    <tr>\n",
              "      <th>4</th>\n",
              "      <td>22583</td>\n",
              "      <td>3</td>\n",
              "      <td>16</td>\n",
              "      <td>2011-12-30</td>\n",
              "      <td>2113.08</td>\n",
              "      <td>True</td>\n",
              "      <td>B</td>\n",
              "      <td>37392</td>\n",
              "      <td>48.29</td>\n",
              "      <td>3.129</td>\n",
              "      <td>1449.16</td>\n",
              "      <td>14356.07</td>\n",
              "      <td>66.66</td>\n",
              "      <td>81.43</td>\n",
              "      <td>223.009084</td>\n",
              "      <td>7.197</td>\n",
              "    </tr>\n",
              "    <tr>\n",
              "      <th>...</th>\n",
              "      <td>...</td>\n",
              "      <td>...</td>\n",
              "      <td>...</td>\n",
              "      <td>...</td>\n",
              "      <td>...</td>\n",
              "      <td>...</td>\n",
              "      <td>...</td>\n",
              "      <td>...</td>\n",
              "      <td>...</td>\n",
              "      <td>...</td>\n",
              "      <td>...</td>\n",
              "      <td>...</td>\n",
              "      <td>...</td>\n",
              "      <td>...</td>\n",
              "      <td>...</td>\n",
              "      <td>...</td>\n",
              "    </tr>\n",
              "    <tr>\n",
              "      <th>1995</th>\n",
              "      <td>74860</td>\n",
              "      <td>8</td>\n",
              "      <td>49</td>\n",
              "      <td>2011-11-18</td>\n",
              "      <td>1336.37</td>\n",
              "      <td>False</td>\n",
              "      <td>A</td>\n",
              "      <td>155078</td>\n",
              "      <td>51.72</td>\n",
              "      <td>3.308</td>\n",
              "      <td>6839.45</td>\n",
              "      <td>114.32</td>\n",
              "      <td>166.32</td>\n",
              "      <td>868.79</td>\n",
              "      <td>221.691174</td>\n",
              "      <td>6.123</td>\n",
              "    </tr>\n",
              "    <tr>\n",
              "      <th>1996</th>\n",
              "      <td>3082</td>\n",
              "      <td>1</td>\n",
              "      <td>23</td>\n",
              "      <td>2012-03-09</td>\n",
              "      <td>21179.12</td>\n",
              "      <td>False</td>\n",
              "      <td>A</td>\n",
              "      <td>151315</td>\n",
              "      <td>58.76</td>\n",
              "      <td>3.669</td>\n",
              "      <td>10331.04</td>\n",
              "      <td>151.88</td>\n",
              "      <td>6.00</td>\n",
              "      <td>671.43</td>\n",
              "      <td>221.059189</td>\n",
              "      <td>8.163</td>\n",
              "    </tr>\n",
              "    <tr>\n",
              "      <th>1997</th>\n",
              "      <td>105372</td>\n",
              "      <td>11</td>\n",
              "      <td>72</td>\n",
              "      <td>2012-02-03</td>\n",
              "      <td>91359.15</td>\n",
              "      <td>False</td>\n",
              "      <td>A</td>\n",
              "      <td>207499</td>\n",
              "      <td>60.24</td>\n",
              "      <td>3.360</td>\n",
              "      <td>50909.18</td>\n",
              "      <td>1957.49</td>\n",
              "      <td>137.23</td>\n",
              "      <td>37091.67</td>\n",
              "      <td>223.659114</td>\n",
              "      <td>6.833</td>\n",
              "    </tr>\n",
              "    <tr>\n",
              "      <th>1998</th>\n",
              "      <td>33039</td>\n",
              "      <td>4</td>\n",
              "      <td>26</td>\n",
              "      <td>2012-03-02</td>\n",
              "      <td>19089.00</td>\n",
              "      <td>False</td>\n",
              "      <td>A</td>\n",
              "      <td>205863</td>\n",
              "      <td>50.38</td>\n",
              "      <td>3.619</td>\n",
              "      <td>18564.88</td>\n",
              "      <td>1394.86</td>\n",
              "      <td>32.93</td>\n",
              "      <td>10714.60</td>\n",
              "      <td>130.645793</td>\n",
              "      <td>4.607</td>\n",
              "    </tr>\n",
              "    <tr>\n",
              "      <th>1999</th>\n",
              "      <td>35040</td>\n",
              "      <td>4</td>\n",
              "      <td>41</td>\n",
              "      <td>2012-02-17</td>\n",
              "      <td>478.00</td>\n",
              "      <td>False</td>\n",
              "      <td>A</td>\n",
              "      <td>205863</td>\n",
              "      <td>34.19</td>\n",
              "      <td>3.493</td>\n",
              "      <td>14225.99</td>\n",
              "      <td>11049.65</td>\n",
              "      <td>17.36</td>\n",
              "      <td>11912.49</td>\n",
              "      <td>130.454621</td>\n",
              "      <td>4.607</td>\n",
              "    </tr>\n",
              "  </tbody>\n",
              "</table>\n",
              "<p>2000 rows × 16 columns</p>\n",
              "</div>\n",
              "      <button class=\"colab-df-convert\" onclick=\"convertToInteractive('df-cf865fb3-35a1-46c9-aceb-cb3491e3995d')\"\n",
              "              title=\"Convert this dataframe to an interactive table.\"\n",
              "              style=\"display:none;\">\n",
              "        \n",
              "  <svg xmlns=\"http://www.w3.org/2000/svg\" height=\"24px\"viewBox=\"0 0 24 24\"\n",
              "       width=\"24px\">\n",
              "    <path d=\"M0 0h24v24H0V0z\" fill=\"none\"/>\n",
              "    <path d=\"M18.56 5.44l.94 2.06.94-2.06 2.06-.94-2.06-.94-.94-2.06-.94 2.06-2.06.94zm-11 1L8.5 8.5l.94-2.06 2.06-.94-2.06-.94L8.5 2.5l-.94 2.06-2.06.94zm10 10l.94 2.06.94-2.06 2.06-.94-2.06-.94-.94-2.06-.94 2.06-2.06.94z\"/><path d=\"M17.41 7.96l-1.37-1.37c-.4-.4-.92-.59-1.43-.59-.52 0-1.04.2-1.43.59L10.3 9.45l-7.72 7.72c-.78.78-.78 2.05 0 2.83L4 21.41c.39.39.9.59 1.41.59.51 0 1.02-.2 1.41-.59l7.78-7.78 2.81-2.81c.8-.78.8-2.07 0-2.86zM5.41 20L4 18.59l7.72-7.72 1.47 1.35L5.41 20z\"/>\n",
              "  </svg>\n",
              "      </button>\n",
              "      \n",
              "  <style>\n",
              "    .colab-df-container {\n",
              "      display:flex;\n",
              "      flex-wrap:wrap;\n",
              "      gap: 12px;\n",
              "    }\n",
              "\n",
              "    .colab-df-convert {\n",
              "      background-color: #E8F0FE;\n",
              "      border: none;\n",
              "      border-radius: 50%;\n",
              "      cursor: pointer;\n",
              "      display: none;\n",
              "      fill: #1967D2;\n",
              "      height: 32px;\n",
              "      padding: 0 0 0 0;\n",
              "      width: 32px;\n",
              "    }\n",
              "\n",
              "    .colab-df-convert:hover {\n",
              "      background-color: #E2EBFA;\n",
              "      box-shadow: 0px 1px 2px rgba(60, 64, 67, 0.3), 0px 1px 3px 1px rgba(60, 64, 67, 0.15);\n",
              "      fill: #174EA6;\n",
              "    }\n",
              "\n",
              "    [theme=dark] .colab-df-convert {\n",
              "      background-color: #3B4455;\n",
              "      fill: #D2E3FC;\n",
              "    }\n",
              "\n",
              "    [theme=dark] .colab-df-convert:hover {\n",
              "      background-color: #434B5C;\n",
              "      box-shadow: 0px 1px 3px 1px rgba(0, 0, 0, 0.15);\n",
              "      filter: drop-shadow(0px 1px 2px rgba(0, 0, 0, 0.3));\n",
              "      fill: #FFFFFF;\n",
              "    }\n",
              "  </style>\n",
              "\n",
              "      <script>\n",
              "        const buttonEl =\n",
              "          document.querySelector('#df-cf865fb3-35a1-46c9-aceb-cb3491e3995d button.colab-df-convert');\n",
              "        buttonEl.style.display =\n",
              "          google.colab.kernel.accessAllowed ? 'block' : 'none';\n",
              "\n",
              "        async function convertToInteractive(key) {\n",
              "          const element = document.querySelector('#df-cf865fb3-35a1-46c9-aceb-cb3491e3995d');\n",
              "          const dataTable =\n",
              "            await google.colab.kernel.invokeFunction('convertToInteractive',\n",
              "                                                     [key], {});\n",
              "          if (!dataTable) return;\n",
              "\n",
              "          const docLinkHtml = 'Like what you see? Visit the ' +\n",
              "            '<a target=\"_blank\" href=https://colab.research.google.com/notebooks/data_table.ipynb>data table notebook</a>'\n",
              "            + ' to learn more about interactive tables.';\n",
              "          element.innerHTML = '';\n",
              "          dataTable['output_type'] = 'display_data';\n",
              "          await google.colab.output.renderOutput(dataTable, element);\n",
              "          const docLink = document.createElement('div');\n",
              "          docLink.innerHTML = docLinkHtml;\n",
              "          element.appendChild(docLink);\n",
              "        }\n",
              "      </script>\n",
              "    </div>\n",
              "  </div>\n",
              "  "
            ]
          },
          "metadata": {},
          "execution_count": 27
        }
      ]
    },
    {
      "cell_type": "code",
      "source": [
        "y = cnn_data.pop('Type')\n",
        "data_ = cnn_data.drop('Date',axis=1)\n",
        "X = data_"
      ],
      "metadata": {
        "id": "VGQ5YqKtbXWP"
      },
      "execution_count": null,
      "outputs": []
    },
    {
      "cell_type": "code",
      "source": [
        "X_ = X.to_numpy().astype('float32')"
      ],
      "metadata": {
        "id": "HZw5i0KpcLU1"
      },
      "execution_count": null,
      "outputs": []
    },
    {
      "cell_type": "code",
      "source": [
        "jobs_encoder = OneHotEncoder()\n",
        "transformed = jobs_encoder.fit_transform(y.to_numpy().reshape(-1, 1))\n",
        "transformed_ = transformed.toarray()"
      ],
      "metadata": {
        "id": "zAOSDnKzcMMk"
      },
      "execution_count": null,
      "outputs": []
    },
    {
      "cell_type": "code",
      "source": [
        "results = evaluate_model(X_, transformed_)\n",
        "# summarize performance\n",
        "print('Accuracy: %.3f (%.3f)' % (mean(results), std(results)))"
      ],
      "metadata": {
        "colab": {
          "base_uri": "https://localhost:8080/"
        },
        "id": "f8N6YdNLcQEE",
        "outputId": "9f18786a-9952-47c5-efe7-6edf41d4339a"
      },
      "execution_count": null,
      "outputs": [
        {
          "output_type": "stream",
          "name": "stdout",
          "text": [
            "7/7 [==============================] - 0s 2ms/step\n",
            ">0.915\n",
            "7/7 [==============================] - 0s 2ms/step\n",
            ">0.755\n",
            "7/7 [==============================] - 0s 4ms/step\n",
            ">0.895\n",
            "7/7 [==============================] - 0s 3ms/step\n",
            ">0.805\n",
            "7/7 [==============================] - 0s 2ms/step\n",
            ">0.830\n",
            "7/7 [==============================] - 0s 2ms/step\n",
            ">0.880\n",
            "7/7 [==============================] - 0s 2ms/step\n",
            ">0.765\n",
            "7/7 [==============================] - 0s 2ms/step\n",
            ">0.775\n",
            "7/7 [==============================] - 0s 2ms/step\n",
            ">0.805\n",
            "7/7 [==============================] - 0s 3ms/step\n",
            ">0.950\n",
            "7/7 [==============================] - 0s 3ms/step\n",
            ">0.860\n",
            "7/7 [==============================] - 0s 2ms/step\n",
            ">0.900\n",
            "7/7 [==============================] - 0s 3ms/step\n",
            ">0.900\n",
            "7/7 [==============================] - 0s 3ms/step\n",
            ">0.855\n",
            "7/7 [==============================] - 0s 2ms/step\n",
            ">0.835\n",
            "7/7 [==============================] - 0s 2ms/step\n",
            ">0.840\n",
            "7/7 [==============================] - 0s 2ms/step\n",
            ">0.895\n",
            "7/7 [==============================] - 0s 2ms/step\n",
            ">0.950\n",
            "7/7 [==============================] - 0s 3ms/step\n",
            ">0.900\n",
            "7/7 [==============================] - 0s 3ms/step\n",
            ">0.690\n",
            "7/7 [==============================] - 0s 2ms/step\n",
            ">0.875\n",
            "7/7 [==============================] - 0s 2ms/step\n",
            ">0.915\n",
            "7/7 [==============================] - 0s 3ms/step\n",
            ">0.760\n",
            "7/7 [==============================] - 0s 2ms/step\n",
            ">0.840\n",
            "7/7 [==============================] - 0s 3ms/step\n",
            ">0.885\n",
            "7/7 [==============================] - 0s 2ms/step\n",
            ">0.885\n",
            "7/7 [==============================] - 0s 2ms/step\n",
            ">0.830\n",
            "7/7 [==============================] - 0s 3ms/step\n",
            ">0.735\n",
            "7/7 [==============================] - 0s 2ms/step\n",
            ">0.880\n",
            "7/7 [==============================] - 0s 3ms/step\n",
            ">0.930\n",
            "Accuracy: 0.851 (0.065)\n"
          ]
        }
      ]
    },
    {
      "cell_type": "markdown",
      "source": [
        "We got the Accuracy as 0.851"
      ],
      "metadata": {
        "id": "jQ0gdUw5dlrH"
      }
    }
  ]
}